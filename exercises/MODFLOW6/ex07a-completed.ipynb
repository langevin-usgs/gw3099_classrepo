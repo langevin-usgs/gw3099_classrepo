{
 "cells": [
  {
   "cell_type": "markdown",
   "metadata": {},
   "source": [
    "# Advanced Modeling of Groundwater Flow (GW3099)\n",
    "![header](../img/header.jpg)\n",
    "\n",
    "# Exercise 7a: MODFLOW 6\n",
    "\n",
    "The purpose of this exercise is to convert the RIV and lake CHD packages to SFR and LAK packages, respectively, and add a mover package to transfer water between the SFR and LAK packages. We will also use a time series file to define SFR inflows  and add LAK and SFR observations."
   ]
  },
  {
   "cell_type": "code",
   "execution_count": null,
   "metadata": {},
   "outputs": [],
   "source": [
    "import os\n",
    "import sys\n",
    "import numpy as np\n",
    "import flopy\n",
    "import matplotlib as mpl\n",
    "import matplotlib.pyplot as plt\n",
    "\n",
    "import config\n",
    "\n",
    "print(sys.version)\n",
    "print('python executable: {}'.format(sys.executable))\n",
    "print('numpy version: {}'.format(np.__version__))\n",
    "print('matplotlib version: {}'.format(mpl.__version__))\n",
    "print('flopy version: {}'.format(flopy.__version__))"
   ]
  },
  {
   "cell_type": "code",
   "execution_count": null,
   "metadata": {
    "scrolled": true
   },
   "outputs": [],
   "source": [
    "# load the existing model\n",
    "model_ws = './ex06-data'\n",
    "s = flopy.mf6.MFSimulation().load(sim_ws=model_ws, exe_name=config.mf6exe)\n",
    "s.simulation_data.max_columns_of_data = 23"
   ]
  },
  {
   "cell_type": "code",
   "execution_count": null,
   "metadata": {},
   "outputs": [],
   "source": [
    "# get list of files in the ex07-data directory\n",
    "ex07ddir = './ex07-data'\n",
    "os.listdir(ex07ddir)"
   ]
  },
  {
   "cell_type": "code",
   "execution_count": null,
   "metadata": {},
   "outputs": [],
   "source": [
    "# change work space\n",
    "model_ws = './ex07a-completed'\n",
    "s.set_sim_path(model_ws)"
   ]
  },
  {
   "cell_type": "code",
   "execution_count": null,
   "metadata": {},
   "outputs": [],
   "source": []
  },
  {
   "cell_type": "code",
   "execution_count": null,
   "metadata": {},
   "outputs": [],
   "source": [
    "# get the groundwater model\n",
    "gwf = s.get_model('ex06')"
   ]
  },
  {
   "cell_type": "code",
   "execution_count": null,
   "metadata": {},
   "outputs": [],
   "source": [
    "# get the river location data\n",
    "riv = gwf.get_package('RIV-1')\n",
    "rivspd = riv.stress_period_data.get_data(key=0)\n",
    "rivspd.dtype"
   ]
  },
  {
   "cell_type": "code",
   "execution_count": null,
   "metadata": {},
   "outputs": [],
   "source": [
    "# get rid of the existing river package\n",
    "gwf.remove_package('RIV')"
   ]
  },
  {
   "cell_type": "markdown",
   "metadata": {},
   "source": [
    "### create the SFR model"
   ]
  },
  {
   "cell_type": "code",
   "execution_count": null,
   "metadata": {},
   "outputs": [],
   "source": [
    "# read sfr package data\n",
    "sfrpd = np.genfromtxt('./ex07-data/sfr-packagedata.dat', names=True)\n",
    "sfrpd.dtype"
   ]
  },
  {
   "cell_type": "code",
   "execution_count": null,
   "metadata": {},
   "outputs": [],
   "source": [
    "# create a default dtype\n",
    "sfrpackagedata = flopy.mf6.ModflowGwfsfr.packagedata.empty(gwf, boundnames=True, maxbound=rivspd.shape[0])\n",
    "sfrpackagedata.dtype"
   ]
  },
  {
   "cell_type": "code",
   "execution_count": null,
   "metadata": {},
   "outputs": [],
   "source": [
    "# fill package data\n",
    "for name in sfrpackagedata.dtype.names :\n",
    "    if name in rivspd.dtype.names:\n",
    "        sfrpackagedata[name] = rivspd[name]\n",
    "for name in sfrpackagedata.dtype.names:\n",
    "    if name in sfrpd.dtype.names:\n",
    "        sfrpackagedata[name] = sfrpd[name]\n",
    "sfrpackagedata['boundnames'] = rivspd['boundname']    \n",
    "sfrpackagedata    "
   ]
  },
  {
   "cell_type": "code",
   "execution_count": null,
   "metadata": {},
   "outputs": [],
   "source": [
    "type(sfrpackagedata['cellid'][0])"
   ]
  },
  {
   "cell_type": "code",
   "execution_count": null,
   "metadata": {},
   "outputs": [],
   "source": [
    "# read sfr connection data\n",
    "with open('ex07-data/sfr-connectiondata.dat') as f: \n",
    "    lines = f.readlines()\n",
    "sfrconnectiondata = []\n",
    "for line in lines:\n",
    "    t = line.split()\n",
    "    c = []\n",
    "    for v in t:\n",
    "        i = int(v)\n",
    "        c.append(i)\n",
    "    sfrconnectiondata.append(c)"
   ]
  },
  {
   "cell_type": "code",
   "execution_count": null,
   "metadata": {},
   "outputs": [],
   "source": [
    "# load inflow timeseries data\n",
    "inflow_data = np.loadtxt('./ex07-data/sfr_timeseries.dat')\n",
    "inflow_data = list(map(tuple, inflow_data))"
   ]
  },
  {
   "cell_type": "code",
   "execution_count": null,
   "metadata": {},
   "outputs": [],
   "source": [
    "# sfr observations name and ts file name and tsrecord name\n",
    "sfrobsname = 'ex06.sfr.obs'\n",
    "sfr_ts_fname = 'sfr-inflow-rates.ts'\n",
    "ts_record = 'inflow_rate'"
   ]
  },
  {
   "cell_type": "code",
   "execution_count": null,
   "metadata": {},
   "outputs": [],
   "source": [
    "# create sfr inflows\n",
    "sfrperioddata = {0: [[0, 'inflow', ts_record]]}"
   ]
  },
  {
   "cell_type": "code",
   "execution_count": null,
   "metadata": {},
   "outputs": [],
   "source": [
    "# add the sfr package to the model\n",
    "sfr = flopy.mf6.ModflowGwfsfr(gwf, stage_filerecord='ex06.sfr.stage.bin', budget_filerecord='ex06.sfr.cbc', \n",
    "                              obs_filerecord=sfrobsname,\n",
    "                              ts_filerecord=sfr_ts_fname,\n",
    "                              mover=True, pname='SFR-1',\n",
    "                              unit_conversion=128390.00, \n",
    "                              boundnames=True, nreaches=38,\n",
    "                              packagedata=sfrpackagedata, connectiondata=sfrconnectiondata,\n",
    "                              perioddata=sfrperioddata)"
   ]
  },
  {
   "cell_type": "code",
   "execution_count": null,
   "metadata": {},
   "outputs": [],
   "source": [
    "# add sfr observations\n",
    "sfr.obs_filerecord.set_data([sfrobsname])\n",
    "sfr_obs = [('SFR06-S', 'STAGE', 5), ('SFR06-Q', 'DOWNSTREAM-FLOW', 5),\n",
    "           ('SFR07-S', 'STAGE', 6), ('SFR07-Q', 'DOWNSTREAM-FLOW', 6),\n",
    "           ('SFR38-S', 'STAGE', 37), ('SFR38-Q', 'DOWNSTREAM-FLOW', 37),\n",
    "           ('SEG01', 'SFR', 'SEG1'), ('SEG02', 'SFR', 'SEG2'),\n",
    "           ('SEG03', 'SFR', 'SEG3'), ('SEG04', 'SFR', 'SEG4')]\n",
    "sfrobs = flopy.mf6.ModflowUtlobs(gwf, continuous={sfrobsname+'.csv': sfr_obs}, parent_file=sfr, fname=sfrobsname)"
   ]
  },
  {
   "cell_type": "code",
   "execution_count": null,
   "metadata": {},
   "outputs": [],
   "source": [
    "# sfr inflow ts package\n",
    "\n",
    "sfr_ts_package = flopy.mf6.ModflowUtlts(gwf, pname='sfr_ts', fname=sfr_ts_fname, parent_file=sfr,\n",
    "                                         timeseries=inflow_data,\n",
    "                                         time_series_namerecord=[(ts_record,)],\n",
    "                                         interpolation_methodrecord=[('linear',)])\n",
    "sfr.ts_filerecord.set_data([sfr_ts_fname])"
   ]
  },
  {
   "cell_type": "markdown",
   "metadata": {},
   "source": [
    "### Create the Lake package"
   ]
  },
  {
   "cell_type": "code",
   "execution_count": null,
   "metadata": {},
   "outputs": [],
   "source": [
    "# get the lake chd data\n",
    "lakchd = gwf.get_package('LAK-1')\n",
    "chdspd = lakchd.stress_period_data.get_data(key=0)\n",
    "chdloc = chdspd['cellid']\n",
    "chdloc"
   ]
  },
  {
   "cell_type": "code",
   "execution_count": null,
   "metadata": {},
   "outputs": [],
   "source": [
    "# remove the lake chd file\n",
    "gwf.remove_package('LAK-1')"
   ]
  },
  {
   "cell_type": "code",
   "execution_count": null,
   "metadata": {},
   "outputs": [],
   "source": [
    "# read lak package data\n",
    "dtype = [('lakeno', np.int32), ('iconn', np.int32), \n",
    "         ('k', np.int32), ('i', np.int32), ('j', np.int32), \n",
    "         ('claktype', '|U20'), ('bedleak', np.float), ('belev', np.float), \n",
    "         ('telev', np.float), ('connlen', np.float), ('connwidth', np.float)]\n",
    "lakpd = np.genfromtxt('./ex07-data/lak-connectiondata.dat', dtype=dtype)\n",
    "lakpd.dtype"
   ]
  },
  {
   "cell_type": "code",
   "execution_count": null,
   "metadata": {},
   "outputs": [],
   "source": [
    "# create cellid\n",
    "arr = np.column_stack((lakpd['k'], lakpd['i'], lakpd['j']))\n",
    "cellid = tuple(map(tuple, arr))\n",
    "len(cellid)"
   ]
  },
  {
   "cell_type": "code",
   "execution_count": null,
   "metadata": {},
   "outputs": [],
   "source": [
    "# create lakeconnectiondata\n",
    "lakeconnectiondata = flopy.mf6.ModflowGwflak.connectiondata.empty(gwf, maxbound=len(cellid))\n",
    "for name in lakeconnectiondata.dtype.names:\n",
    "    if name == 'cellid':\n",
    "        lakeconnectiondata[name] = cellid\n",
    "    else:\n",
    "        lakeconnectiondata[name] = lakpd[name]\n",
    "lakeconnectiondata"
   ]
  },
  {
   "cell_type": "code",
   "execution_count": null,
   "metadata": {},
   "outputs": [],
   "source": [
    "# get the unique lake numbers\n",
    "uniquelakes = np.unique(lakpd['lakeno'])\n",
    "uniquelakes"
   ]
  },
  {
   "cell_type": "code",
   "execution_count": null,
   "metadata": {},
   "outputs": [],
   "source": [
    "nlakecon = np.zeros(uniquelakes.shape, dtype=np.int)\n",
    "for lak in lakpd['lakeno']:\n",
    "    for idx, lid in enumerate(uniquelakes):\n",
    "        if lid == lak:\n",
    "            nlakecon[idx] += 1\n",
    "nlakecon"
   ]
  },
  {
   "cell_type": "code",
   "execution_count": null,
   "metadata": {},
   "outputs": [],
   "source": [
    "lakpackagedata = [[0, 44., nlakecon[0], 'lake1'],\n",
    "                  [1, 35.2, nlakecon[1], 'lake2']]"
   ]
  },
  {
   "cell_type": "code",
   "execution_count": null,
   "metadata": {},
   "outputs": [],
   "source": [
    "# create outlet data\n",
    "outlet=[[0, 0, 0, 'MANNING', 44.5, 5.000000, 0.03,  0.2187500E-02]]"
   ]
  },
  {
   "cell_type": "code",
   "execution_count": null,
   "metadata": {},
   "outputs": [],
   "source": [
    "# create lak obs name\n",
    "lakobsname = 'ex06.lak.obs'"
   ]
  },
  {
   "cell_type": "code",
   "execution_count": null,
   "metadata": {},
   "outputs": [],
   "source": [
    "# create the lake package\n",
    "lak = flopy.mf6.ModflowGwflak(gwf, pname='LAK-1', time_conversion=86400.000, mover=True, boundnames=True, \n",
    "                              obs_filerecord=lakobsname,\n",
    "                              nlakes=2, noutlets=1,\n",
    "                              outlets=outlet, packagedata=lakpackagedata, connectiondata=lakeconnectiondata)"
   ]
  },
  {
   "cell_type": "code",
   "execution_count": null,
   "metadata": {},
   "outputs": [],
   "source": [
    "# create lake observations\n",
    "lak.obs_filerecord.set_data([lakobsname])\n",
    "lak_obs = [('LAK1-S', 'STAGE', 1),\n",
    "           ('LAK2-S', 'STAGE', 2),\n",
    "           ('LAK1-Q', 'LAK', 'LAKE1'), \n",
    "           ('LAK2-Q', 'LAK', 'LAKE2')]\n",
    "lakobs = flopy.mf6.ModflowUtlobs(gwf, continuous={lakobsname+'.csv': lak_obs}, parent_file=lak, fname=lakobsname)"
   ]
  },
  {
   "cell_type": "markdown",
   "metadata": {},
   "source": [
    "### reset idomain using lak chd locations"
   ]
  },
  {
   "cell_type": "code",
   "execution_count": null,
   "metadata": {},
   "outputs": [],
   "source": [
    "idomain = gwf.dis.idomain.array\n",
    "for loc in chdloc:\n",
    "    idomain[loc] = 0\n",
    "gwf.dis.idomain.set_data(idomain[0], layer=0, multiplier=[1])"
   ]
  },
  {
   "cell_type": "markdown",
   "metadata": {},
   "source": [
    "### Create the MVR package"
   ]
  },
  {
   "cell_type": "code",
   "execution_count": null,
   "metadata": {},
   "outputs": [],
   "source": [
    "mvrperioddata = [['SFR-1', 5, 'LAK-1', 0, 'FACTOR',  1.],\n",
    "                 ['LAK-1', 0, 'SFR-1', 6, 'FACTOR',  1.]]"
   ]
  },
  {
   "cell_type": "code",
   "execution_count": null,
   "metadata": {},
   "outputs": [],
   "source": [
    "mvr = flopy.mf6.ModflowGwfmvr(gwf, maxmvr=2, maxpackages=2, packages=['SFR-1', 'LAK-1'], perioddata=mvrperioddata)"
   ]
  },
  {
   "cell_type": "markdown",
   "metadata": {},
   "source": [
    "### Write the MODFLOW 6 files"
   ]
  },
  {
   "cell_type": "code",
   "execution_count": null,
   "metadata": {},
   "outputs": [],
   "source": [
    "s.write_simulation()\n",
    "s.run_simulation()"
   ]
  },
  {
   "cell_type": "code",
   "execution_count": null,
   "metadata": {},
   "outputs": [],
   "source": [
    "# load sfr and lak obs\n",
    "sfrobs = np.genfromtxt(os.path.join(model_ws, 'ex06.sfr.obs.csv'), delimiter=',', names=True)\n",
    "lakobs = np.genfromtxt(os.path.join(model_ws, 'ex06.lak.obs.csv'), delimiter=',', names=True)\n",
    "lakobs.dtype"
   ]
  },
  {
   "cell_type": "code",
   "execution_count": null,
   "metadata": {},
   "outputs": [],
   "source": [
    "# create mapping array for lake data\n",
    "lakeconn = gwf.lak.connectiondata.get_data()\n",
    "lakmap = {0: [], 1: []}\n",
    "for v in lakeconn:\n",
    "    if v['claktype'].upper() == 'VERTICAL':\n",
    "        cid = v['cellid']\n",
    "        lakmap[v['lakeno']].append((0, cid[1], cid[2]))"
   ]
  },
  {
   "cell_type": "code",
   "execution_count": null,
   "metadata": {},
   "outputs": [],
   "source": [
    "def sub_lake(h, ls, tmap):\n",
    "    for key, value in tmap.items():\n",
    "        s = ls[key]\n",
    "        for loc in value:\n",
    "            h[loc] = s\n",
    "    return h    "
   ]
  },
  {
   "cell_type": "code",
   "execution_count": null,
   "metadata": {},
   "outputs": [],
   "source": [
    "# retrieve the heads\n",
    "hobj = flopy.utils.HeadFile(os.path.join(model_ws, 'ex06.hds'))\n",
    "times= hobj.get_times()"
   ]
  },
  {
   "cell_type": "code",
   "execution_count": null,
   "metadata": {},
   "outputs": [],
   "source": [
    "# create a spatial reference from the grb\n",
    "grb = flopy.utils.MfGrdFile(os.path.join(model_ws, 'ex06.dis.grb'), )\n",
    "sr = grb.get_spatialreference()\n",
    "sr.get_extent()"
   ]
  },
  {
   "cell_type": "code",
   "execution_count": null,
   "metadata": {},
   "outputs": [],
   "source": [
    "h = hobj.get_data(totim=times[0])\n",
    "ls = [lakobs['LAK1S'][0], lakobs['LAK2S'][0]]\n",
    "h = sub_lake(h, ls, lakmap)\n",
    "mm = flopy.plot.ModelMap(sr=sr)\n",
    "mm.plot_array(h, masked_values=[1e+30])\n",
    "c = mm.contour_array(h, masked_values=[1e+30], colors='white', levels=np.arange(30, 50, 2))\n",
    "plt.clabel(c, fmt='%3d');"
   ]
  },
  {
   "cell_type": "code",
   "execution_count": null,
   "metadata": {},
   "outputs": [],
   "source": [
    "h = hobj.get_data(totim=times[-1])\n",
    "ls = [lakobs['LAK1S'][-1], lakobs['LAK2S'][-1]]\n",
    "h = sub_lake(h, ls, lakmap)\n",
    "mm = flopy.plot.ModelMap(sr=sr)\n",
    "mm.plot_array(h, masked_values=[1e+30])\n",
    "c = mm.contour_array(h, masked_values=[1e+30], colors='white', levels=np.arange(30, 50, 2))\n",
    "plt.clabel(c, fmt='%3d');"
   ]
  },
  {
   "cell_type": "code",
   "execution_count": null,
   "metadata": {},
   "outputs": [],
   "source": [
    "# plot the sfr stage results\n",
    "names = [name for name in sfrobs.dtype.names[1:] if name[-1] == 'S']\n",
    "f, axes = plt.subplots(nrows=1, ncols=len(names), figsize=(len(names)*5, 5))\n",
    "axes = axes.flatten()\n",
    "for idx, name in enumerate(names):\n",
    "    axes[idx].plot(sfrobs['time'], sfrobs[name], marker='.', label=name)\n",
    "    axes[idx].legend();"
   ]
  },
  {
   "cell_type": "code",
   "execution_count": null,
   "metadata": {},
   "outputs": [],
   "source": [
    "# plot the sfr Q results\n",
    "names = [name for name in sfrobs.dtype.names[1:] if name[-1] == 'Q']\n",
    "f, axes = plt.subplots(nrows=1, ncols=len(names), figsize=(len(names)*5, 5))\n",
    "axes = axes.flatten()\n",
    "for idx, name in enumerate(names):\n",
    "    axes[idx].plot(sfrobs['time'], sfrobs[name], marker='.', label=name)\n",
    "    axes[idx].legend();"
   ]
  },
  {
   "cell_type": "code",
   "execution_count": null,
   "metadata": {},
   "outputs": [],
   "source": [
    "# plot the lake results\n",
    "names = [name for name in lakobs.dtype.names[1:] if name[-1] == 'S']\n",
    "f, axes = plt.subplots(nrows=1, ncols=len(names), figsize=(len(names)*5, 5))\n",
    "axes = axes.flatten()\n",
    "for idx, name in enumerate(names):\n",
    "    axes[idx].plot(lakobs['time'], lakobs[name], marker='.', label=name)\n",
    "    axes[idx].legend();"
   ]
  },
  {
   "cell_type": "code",
   "execution_count": null,
   "metadata": {},
   "outputs": [],
   "source": []
  }
 ],
 "metadata": {
  "kernelspec": {
   "display_name": "Python 3",
   "language": "python",
   "name": "python3"
  },
  "language_info": {
   "codemirror_mode": {
    "name": "ipython",
    "version": 3
   },
   "file_extension": ".py",
   "mimetype": "text/x-python",
   "name": "python",
   "nbconvert_exporter": "python",
   "pygments_lexer": "ipython3",
   "version": "3.6.6"
  }
 },
 "nbformat": 4,
 "nbformat_minor": 2
}
