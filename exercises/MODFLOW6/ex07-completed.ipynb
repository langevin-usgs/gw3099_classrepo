{
 "cells": [
  {
   "cell_type": "markdown",
   "metadata": {},
   "source": [
    "# Advanced Modeling of Groundwater Flow (GW3099)\n",
    "![header](../img/header.jpg)\n",
    "\n",
    "# Exercise 7: MODFLOW 6\n",
    "\n",
    "The purpose of this exercise is to load and existing model with SFR and LAK packages and add a MVR package to transfer water between the SFR and LAK packages. We will also convert the SFR inflows to use a time series file and add LAK and SFR observations."
   ]
  },
  {
   "cell_type": "code",
   "execution_count": null,
   "metadata": {},
   "outputs": [],
   "source": [
    "import os\n",
    "import numpy as np\n",
    "import flopy\n",
    "import matplotlib.pyplot as plt"
   ]
  },
  {
   "cell_type": "code",
   "execution_count": null,
   "metadata": {
    "scrolled": true
   },
   "outputs": [],
   "source": [
    "# load the existing model\n",
    "model_ws = './ex07-data'\n",
    "s = flopy.mf6.MFSimulation().load(sim_ws=model_ws)"
   ]
  },
  {
   "cell_type": "code",
   "execution_count": null,
   "metadata": {},
   "outputs": [],
   "source": [
    "# change work space\n",
    "model_ws = './ex07-completed'\n",
    "s.set_sim_path(model_ws)"
   ]
  },
  {
   "cell_type": "code",
   "execution_count": null,
   "metadata": {},
   "outputs": [],
   "source": [
    "# get the groundwater model\n",
    "gwf = s.get_model('ex07')"
   ]
  },
  {
   "cell_type": "markdown",
   "metadata": {},
   "source": [
    "### Create the MVR package"
   ]
  },
  {
   "cell_type": "code",
   "execution_count": null,
   "metadata": {},
   "outputs": [],
   "source": [
    "# connect sfr reach 6 to lake 1 and\n",
    "# connect lake 1 to sfr reach 7\n",
    "mvrperioddata = [['SFR-1', 5, 'LAK-1', 0, 'FACTOR',  1.],\n",
    "                 ['LAK-1', 0, 'SFR-1', 6, 'FACTOR',  1.]]"
   ]
  },
  {
   "cell_type": "code",
   "execution_count": null,
   "metadata": {},
   "outputs": [],
   "source": [
    "mvr = flopy.mf6.ModflowGwfmvr(gwf, maxmvr=2, maxpackages=2, packages=['SFR-1', 'LAK-1'], perioddata=mvrperioddata)"
   ]
  },
  {
   "cell_type": "markdown",
   "metadata": {},
   "source": [
    "### Turn on the mover in the SFR and LAK packages"
   ]
  },
  {
   "cell_type": "code",
   "execution_count": null,
   "metadata": {},
   "outputs": [],
   "source": [
    "gwf.lak.mover = True\n",
    "gwf.sfr.mover = True"
   ]
  },
  {
   "cell_type": "markdown",
   "metadata": {},
   "source": [
    "### Get a list of the available packages"
   ]
  },
  {
   "cell_type": "code",
   "execution_count": null,
   "metadata": {},
   "outputs": [],
   "source": [
    "gwf.package_dict.keys()"
   ]
  },
  {
   "cell_type": "markdown",
   "metadata": {},
   "source": [
    "### Add observations to the SFR and LAK packages"
   ]
  },
  {
   "cell_type": "code",
   "execution_count": null,
   "metadata": {},
   "outputs": [],
   "source": [
    "# add sfr observations\n",
    "sfr = gwf.get_package('sfr')\n",
    "sfrobsname = 'ex07.sfr.obs'\n",
    "sfr.obs_filerecord.set_data([sfrobsname])\n",
    "sfr_obs = [('SFR06-S', 'STAGE', 5), ('SFR06-Q', 'DOWNSTREAM-FLOW', 5),\n",
    "           ('SFR07-S', 'STAGE', 6), ('SFR07-Q', 'DOWNSTREAM-FLOW', 6),\n",
    "           ('SFR38-S', 'STAGE', 37), ('SFR38-Q', 'DOWNSTREAM-FLOW', 37),\n",
    "           ('SEG01', 'SFR', 'SEG1'), ('SEG02', 'SFR', 'SEG2'),\n",
    "           ('SEG03', 'SFR', 'SEG3'), ('SEG04', 'SFR', 'SEG4')]\n",
    "sfrobs = flopy.mf6.ModflowUtlobs(gwf, continuous={'ex07.sfr.obs.csv': sfr_obs}, parent_file=sfr, fname=sfrobsname)"
   ]
  },
  {
   "cell_type": "code",
   "execution_count": null,
   "metadata": {},
   "outputs": [],
   "source": [
    "lak = gwf.get_package('lak')\n",
    "lakobsname = 'ex07.lak.obs'\n",
    "lak.obs_filerecord.set_data([lakobsname])\n",
    "lak_obs = [('LAK1-S', 'STAGE', 1),\n",
    "           ('LAK2-S', 'STAGE', 2),\n",
    "           ('LAK1-Q', 'LAK', 'LAKE1'), \n",
    "           ('LAK2-Q', 'LAK', 'LAKE2')]\n",
    "lakobs = flopy.mf6.ModflowUtlobs(gwf, continuous={'ex07.lak.obs.csv': lak_obs}, parent_file=lak, fname=lakobsname)"
   ]
  },
  {
   "cell_type": "markdown",
   "metadata": {},
   "source": [
    "### Change the SFR package to use a time series for inflows"
   ]
  },
  {
   "cell_type": "code",
   "execution_count": null,
   "metadata": {},
   "outputs": [],
   "source": []
  },
  {
   "cell_type": "markdown",
   "metadata": {},
   "source": [
    "### Write the MODFLOW 6 files and run the model"
   ]
  },
  {
   "cell_type": "code",
   "execution_count": null,
   "metadata": {},
   "outputs": [],
   "source": [
    "s.write_simulation()\n",
    "s.run_simulation()"
   ]
  },
  {
   "cell_type": "code",
   "execution_count": null,
   "metadata": {},
   "outputs": [],
   "source": [
    "# load sfr and lak obs\n",
    "sfrobs = np.genfromtxt(os.path.join(model_ws, 'ex07.sfr.obs.csv'), delimiter=',', names=True)\n",
    "lakobs = np.genfromtxt(os.path.join(model_ws, 'ex07.lak.obs.csv'), delimiter=',', names=True)\n",
    "lakobs.dtype"
   ]
  },
  {
   "cell_type": "code",
   "execution_count": null,
   "metadata": {},
   "outputs": [],
   "source": [
    "# create mapping array for lake data\n",
    "lakeconn = gwf.lak.connectiondata.get_data()\n",
    "lakmap = {0: [], 1: []}\n",
    "for v in lakeconn:\n",
    "    if v['claktype'].upper() == 'VERTICAL':\n",
    "        cid = v['cellid']\n",
    "        lakmap[v['lakeno']].append((0, cid[1], cid[2]))"
   ]
  },
  {
   "cell_type": "code",
   "execution_count": null,
   "metadata": {},
   "outputs": [],
   "source": [
    "def sub_lake(h, ls, tmap):\n",
    "    for key, value in tmap.items():\n",
    "        s = ls[key]\n",
    "        for loc in value:\n",
    "            h[loc] = s\n",
    "    return h    "
   ]
  },
  {
   "cell_type": "code",
   "execution_count": null,
   "metadata": {},
   "outputs": [],
   "source": [
    "# retrieve the heads\n",
    "hobj = flopy.utils.HeadFile(os.path.join(model_ws, 'ex07.hds'))\n",
    "times= hobj.get_times()"
   ]
  },
  {
   "cell_type": "code",
   "execution_count": null,
   "metadata": {},
   "outputs": [],
   "source": [
    "# create a spatial reference from the grb\n",
    "grb = flopy.utils.MfGrdFile(os.path.join(model_ws, 'ex07.dis.grb'), )\n",
    "sr = grb.get_spatialreference()\n",
    "sr.get_extent()"
   ]
  },
  {
   "cell_type": "code",
   "execution_count": null,
   "metadata": {},
   "outputs": [],
   "source": [
    "h = hobj.get_data(totim=times[0])\n",
    "ls = [lakobs['LAK1S'][0], lakobs['LAK2S'][0]]\n",
    "h = sub_lake(h, ls, lakmap)\n",
    "mm = flopy.plot.ModelMap(sr=sr)\n",
    "mm.plot_array(h, masked_values=[1e+30])\n",
    "c = mm.contour_array(h, masked_values=[1e+30], colors='white', levels=np.arange(30, 50, 2))\n",
    "plt.clabel(c, fmt='%3d');"
   ]
  },
  {
   "cell_type": "code",
   "execution_count": null,
   "metadata": {},
   "outputs": [],
   "source": [
    "h = hobj.get_data(totim=times[-1])\n",
    "ls = [lakobs['LAK1S'][-1], lakobs['LAK2S'][-1]]\n",
    "h = sub_lake(h, ls, lakmap)\n",
    "mm = flopy.plot.ModelMap(sr=sr)\n",
    "mm.plot_array(h, masked_values=[1e+30])\n",
    "c = mm.contour_array(h, masked_values=[1e+30], colors='white', levels=np.arange(30, 50, 2))\n",
    "plt.clabel(c, fmt='%3d');"
   ]
  },
  {
   "cell_type": "code",
   "execution_count": null,
   "metadata": {},
   "outputs": [],
   "source": [
    "# plot the sfr stage results\n",
    "for name in sfrobs.dtype.names[1:]:\n",
    "    if name[-1] == 'S':\n",
    "        plt.semilogx(sfrobs['time'], sfrobs[name], marker='.', label=name)\n",
    "plt.legend();"
   ]
  },
  {
   "cell_type": "code",
   "execution_count": null,
   "metadata": {},
   "outputs": [],
   "source": [
    "# plot the sfr Q results\n",
    "for name in sfrobs.dtype.names[1:]:\n",
    "    if name[-1] == 'Q':\n",
    "        plt.semilogx(sfrobs['time'], sfrobs[name], marker='.', label=name)\n",
    "plt.legend();"
   ]
  },
  {
   "cell_type": "code",
   "execution_count": null,
   "metadata": {},
   "outputs": [],
   "source": [
    "# plot the lake results\n",
    "for name in lakobs.dtype.names[1:]:\n",
    "    if name[-1] == 'S':\n",
    "        plt.semilogx(lakobs['time'], lakobs[name], marker='.', label=name)\n",
    "plt.legend();"
   ]
  },
  {
   "cell_type": "code",
   "execution_count": null,
   "metadata": {},
   "outputs": [],
   "source": []
  }
 ],
 "metadata": {
  "kernelspec": {
   "display_name": "Python 3",
   "language": "python",
   "name": "python3"
  }
 },
 "nbformat": 4,
 "nbformat_minor": 2
}
