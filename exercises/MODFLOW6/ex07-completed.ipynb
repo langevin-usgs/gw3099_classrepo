{
 "cells": [
  {
   "cell_type": "markdown",
   "metadata": {},
   "source": [
    "# Advanced Modeling of Groundwater Flow (GW3099)\n",
    "![header](../img/header.jpg)\n",
    "\n",
    "# Exercise 7: MODFLOW 6\n",
    "\n",
    "The purpose of this exercise is to convert the RIV and lake CHD packages to SFR and LAK packages, respectively, and add a mover package to transfer water between the SFR and LAK packages. Additionally we will also convert the SFR inflow to use timeseries input."
   ]
  },
  {
   "cell_type": "code",
   "execution_count": null,
   "metadata": {},
   "outputs": [],
   "source": [
    "import os\n",
    "import numpy as np\n",
    "import flopy\n",
    "import matplotlib.pyplot as plt"
   ]
  },
  {
   "cell_type": "code",
   "execution_count": null,
   "metadata": {},
   "outputs": [],
   "source": [
    "# load the existing model\n",
    "model_ws = './ex06-data'\n",
    "s = flopy.mf6.MFSimulation().load(sim_ws=model_ws)"
   ]
  },
  {
   "cell_type": "code",
   "execution_count": null,
   "metadata": {},
   "outputs": [],
   "source": [
    "# get list of files in the ex07-data directory\n",
    "ex07ddir = './ex07-data'\n",
    "os.listdir(ex07ddir)"
   ]
  },
  {
   "cell_type": "code",
   "execution_count": null,
   "metadata": {},
   "outputs": [],
   "source": [
    "# change work space\n",
    "model_ws = './ex07-completed'\n",
    "s.set_sim_path(model_ws)"
   ]
  },
  {
   "cell_type": "code",
   "execution_count": null,
   "metadata": {},
   "outputs": [],
   "source": [
    "# get the groundwater model\n",
    "gwf = s.get_model('ex06')"
   ]
  },
  {
   "cell_type": "code",
   "execution_count": null,
   "metadata": {},
   "outputs": [],
   "source": [
    "# get the river location data\n",
    "riv = gwf.get_package('RIV-1')\n",
    "rivspd = riv.stress_period_data.get_data(key=0)\n",
    "rivspd.dtype"
   ]
  },
  {
   "cell_type": "code",
   "execution_count": null,
   "metadata": {},
   "outputs": [],
   "source": [
    "# get rid of the existing river package\n",
    "gwf.remove_package('RIV')"
   ]
  },
  {
   "cell_type": "markdown",
   "metadata": {},
   "source": [
    "### create the SFR model"
   ]
  },
  {
   "cell_type": "code",
   "execution_count": null,
   "metadata": {},
   "outputs": [],
   "source": [
    "# read sfr package data\n",
    "sfrpd = np.genfromtxt('./ex07-data/sfr-packagedata.dat', names=True)\n",
    "sfrpd.dtype"
   ]
  },
  {
   "cell_type": "code",
   "execution_count": null,
   "metadata": {},
   "outputs": [],
   "source": [
    "# create a default dtype\n",
    "sfrpackagedata = flopy.mf6.ModflowGwfsfr.packagedata.empty(gwf, boundnames=True, maxbound=rivspd.shape[0])\n",
    "sfrpackagedata.dtype"
   ]
  },
  {
   "cell_type": "code",
   "execution_count": null,
   "metadata": {},
   "outputs": [],
   "source": [
    "# fill package data\n",
    "for name in sfrpackagedata.dtype.names :\n",
    "    if name in rivspd.dtype.names:\n",
    "        sfrpackagedata[name] = rivspd[name]\n",
    "for name in sfrpackagedata.dtype.names:\n",
    "    if name in sfrpd.dtype.names:\n",
    "        sfrpackagedata[name] = sfrpd[name]\n",
    "sfrpackagedata['boundnames'] = rivspd['boundname']    \n",
    "sfrpackagedata    "
   ]
  },
  {
   "cell_type": "code",
   "execution_count": null,
   "metadata": {},
   "outputs": [],
   "source": [
    "type(sfrpackagedata['cellid'][0])"
   ]
  },
  {
   "cell_type": "code",
   "execution_count": null,
   "metadata": {},
   "outputs": [],
   "source": [
    "# read sfr connection data\n",
    "with open('ex07-data/sfr-connectiondata.dat') as f: \n",
    "    lines = f.readlines()\n",
    "sfrconnectiondata = []\n",
    "for line in lines:\n",
    "    t = line.split()\n",
    "    c = []\n",
    "    for v in t:\n",
    "        i = int(v)\n",
    "        c.append(i)\n",
    "    sfrconnectiondata.append(c)"
   ]
  },
  {
   "cell_type": "code",
   "execution_count": null,
   "metadata": {},
   "outputs": [],
   "source": [
    "# create sfr inflows\n",
    "sfrperioddata = {0: [[0, 'inflow', 86400.]], 1:[[0, 'inflow', 95040.]]}"
   ]
  },
  {
   "cell_type": "code",
   "execution_count": null,
   "metadata": {},
   "outputs": [],
   "source": [
    "# add the sfr package to the model\n",
    "sfr = flopy.mf6.ModflowGwfsfr(gwf, stage_filerecord='ex06.sfr.stage.bin', budget_filerecord='ex06.sfr.cbc', \n",
    "                              mover=True,\n",
    "                              unit_conversion=128390.00, \n",
    "                              boundnames=True, nreaches=38,\n",
    "                              packagedata=sfrpackagedata, connectiondata=sfrconnectiondata,\n",
    "                              perioddata=sfrperioddata)"
   ]
  },
  {
   "cell_type": "markdown",
   "metadata": {},
   "source": [
    "### Create the Lake package"
   ]
  },
  {
   "cell_type": "code",
   "execution_count": null,
   "metadata": {},
   "outputs": [],
   "source": [
    "# get the lake chd data\n",
    "lakchd = gwf.get_package('LAK-1')\n",
    "chdspd = lakchd.stress_period_data.get_data(key=0)\n",
    "chdloc = chdspd['cellid']\n",
    "chdloc"
   ]
  },
  {
   "cell_type": "code",
   "execution_count": null,
   "metadata": {},
   "outputs": [],
   "source": [
    "# remove the lake chd file\n",
    "gwf.remove_package('LAK-1')"
   ]
  },
  {
   "cell_type": "code",
   "execution_count": null,
   "metadata": {},
   "outputs": [],
   "source": [
    "# read lak package data\n",
    "dtype = [('lakeno', np.int32), ('iconn', np.int32), \n",
    "         ('k', np.int32), ('i', np.int32), ('j', np.int32), \n",
    "         ('claktype', '|U20'), ('bedleak', np.float), ('belev', np.float), \n",
    "         ('telev', np.float), ('connlen', np.float), ('connwidth', np.float)]\n",
    "lakpd = np.genfromtxt('./ex07-data/lak-connectiondata.dat', dtype=dtype)\n",
    "lakpd.dtype"
   ]
  },
  {
   "cell_type": "code",
   "execution_count": null,
   "metadata": {},
   "outputs": [],
   "source": [
    "arr = np.column_stack((lakpd['k'], lakpd['i'], lakpd['j']))\n",
    "cellid = tuple(map(tuple, arr))\n",
    "len(cellid)"
   ]
  },
  {
   "cell_type": "code",
   "execution_count": null,
   "metadata": {},
   "outputs": [],
   "source": [
    "# create the lake package"
   ]
  },
  {
   "cell_type": "markdown",
   "metadata": {},
   "source": [
    "### reset idomain using lak chd locations"
   ]
  },
  {
   "cell_type": "code",
   "execution_count": null,
   "metadata": {},
   "outputs": [],
   "source": [
    "idomain = gwf.dis.idomain.array\n",
    "for loc in chdloc:\n",
    "    idomain[loc] = 0\n",
    "gwf.dis.idomain.set_data(idomain[0], layer=0)"
   ]
  },
  {
   "cell_type": "markdown",
   "metadata": {},
   "source": [
    "### Create the MVR package"
   ]
  },
  {
   "cell_type": "code",
   "execution_count": null,
   "metadata": {},
   "outputs": [],
   "source": []
  },
  {
   "cell_type": "code",
   "execution_count": null,
   "metadata": {},
   "outputs": [],
   "source": []
  },
  {
   "cell_type": "code",
   "execution_count": null,
   "metadata": {},
   "outputs": [],
   "source": []
  },
  {
   "cell_type": "code",
   "execution_count": null,
   "metadata": {},
   "outputs": [],
   "source": []
  },
  {
   "cell_type": "code",
   "execution_count": null,
   "metadata": {},
   "outputs": [],
   "source": [
    "s.write_simulation()"
   ]
  },
  {
   "cell_type": "code",
   "execution_count": null,
   "metadata": {},
   "outputs": [],
   "source": []
  },
  {
   "cell_type": "code",
   "execution_count": null,
   "metadata": {},
   "outputs": [],
   "source": []
  },
  {
   "cell_type": "code",
   "execution_count": null,
   "metadata": {},
   "outputs": [],
   "source": []
  },
  {
   "cell_type": "code",
   "execution_count": null,
   "metadata": {},
   "outputs": [],
   "source": []
  },
  {
   "cell_type": "code",
   "execution_count": null,
   "metadata": {},
   "outputs": [],
   "source": [
    "# add head observations\n",
    "head_obs = [('W1_1', 'HEAD', (0, 15, 18)), ('W1_3', 'HEAD', (2, 15, 18)), ('W1_5', 'HEAD', (4, 15, 18))]\n",
    "gwobs = flopy.mf6.ModflowUtlobs(gwf, continuous={'ex06.head.obs.csv': head_obs})"
   ]
  },
  {
   "cell_type": "code",
   "execution_count": null,
   "metadata": {},
   "outputs": [],
   "source": [
    "# determine where the chds representing the lakes are\n",
    "chd2 = gwf.get_package('LAK-1')\n",
    "chd2.stress_period_data.get_data(key=0)"
   ]
  },
  {
   "cell_type": "code",
   "execution_count": null,
   "metadata": {},
   "outputs": [],
   "source": [
    "# add chd observations\n",
    "chd2obsname = 'ex06.lak.obs'\n",
    "chd2.obs_filerecord.set_data([chd2obsname])\n",
    "chd_obs = [('LAKE-1', 'CHD', 'lake1'), ('LAKE-2', 'CHD', 'lake2')]\n",
    "chdobs = flopy.mf6.ModflowUtlobs(gwf, continuous={'ex06.lake.obs.csv': chd_obs}, parent_file=chd2, fname=chd2obsname)"
   ]
  },
  {
   "cell_type": "code",
   "execution_count": null,
   "metadata": {},
   "outputs": [],
   "source": [
    "# determine where the rivers are\n",
    "riv = gwf.get_package('RIV-1')\n",
    "riv.stress_period_data.get_data(key=0)"
   ]
  },
  {
   "cell_type": "code",
   "execution_count": null,
   "metadata": {},
   "outputs": [],
   "source": [
    "# add river observations\n",
    "rivobsname = 'ex06.riv.obs'\n",
    "riv.obs_filerecord.set_data([rivobsname])\n",
    "riv_obs = [('RIVER-1', 'RIV', 'seg1'), ('RIVER-2', 'RIV', 'seg2'), \n",
    "           ('RIVER-3', 'RIV', 'seg3'), ('RIVER-4', 'RIV', 'seg4')]\n",
    "rivobs = flopy.mf6.ModflowUtlobs(gwf, continuous={'ex06.riv.obs.csv': riv_obs}, parent_file=riv, fname=rivobsname)"
   ]
  },
  {
   "cell_type": "code",
   "execution_count": null,
   "metadata": {},
   "outputs": [],
   "source": [
    "# write the model files to ex06-completed and run the simulation\n",
    "s.write_simulation()\n",
    "s.run_simulation()"
   ]
  },
  {
   "cell_type": "code",
   "execution_count": null,
   "metadata": {},
   "outputs": [],
   "source": [
    "# retrieve the heads\n",
    "hobj = flopy.utils.HeadFile(os.path.join(model_ws, 'ex06.hds'))\n",
    "times= hobj.get_times()"
   ]
  },
  {
   "cell_type": "code",
   "execution_count": null,
   "metadata": {},
   "outputs": [],
   "source": [
    "# create a spatial reference from the grb\n",
    "grb = flopy.utils.MfGrdFile(os.path.join(model_ws, 'ex06.dis.grb'), )\n",
    "sr = grb.get_spatialreference()\n",
    "sr.get_extent()"
   ]
  },
  {
   "cell_type": "code",
   "execution_count": null,
   "metadata": {},
   "outputs": [],
   "source": [
    "h = hobj.get_data(totim=times[0])\n",
    "mm = flopy.plot.ModelMap(sr=sr)\n",
    "mm.plot_array(h, masked_values=[1e+30])\n",
    "c = mm.contour_array(h, masked_values=[1e+30], colors='white', levels=np.arange(30, 50, 2))\n",
    "plt.clabel(c, fmt='%3d');"
   ]
  },
  {
   "cell_type": "code",
   "execution_count": null,
   "metadata": {},
   "outputs": [],
   "source": [
    "h = hobj.get_data(totim=times[-1])\n",
    "mm = flopy.plot.ModelMap(sr=sr)\n",
    "mm.plot_array(h, masked_values=[1e+30])\n",
    "c = mm.contour_array(h, masked_values=[1e+30], colors='white', levels=np.arange(30, 50, 2))\n",
    "plt.clabel(c, fmt='%3d');"
   ]
  },
  {
   "cell_type": "code",
   "execution_count": null,
   "metadata": {},
   "outputs": [],
   "source": [
    "# load and plot the ex06 observations\n",
    "gwobs = np.genfromtxt(os.path.join(model_ws, 'ex06.head.obs.csv'), delimiter=',', names=True)\n",
    "for name in gwobs.dtype.names[1:]:\n",
    "    plt.semilogx(gwobs['time'], gwobs[name], marker='.', label=name)\n",
    "plt.legend()"
   ]
  },
  {
   "cell_type": "code",
   "execution_count": null,
   "metadata": {},
   "outputs": [],
   "source": [
    "# load chd and river obs\n",
    "chdobs = np.genfromtxt(os.path.join(model_ws, 'ex06.lake.obs.csv'), delimiter=',', names=True)\n",
    "rivobs = np.genfromtxt(os.path.join(model_ws, 'ex06.riv.obs.csv'), delimiter=',', names=True)"
   ]
  },
  {
   "cell_type": "code",
   "execution_count": null,
   "metadata": {},
   "outputs": [],
   "source": [
    "# plot the chd lake results\n",
    "for name in chdobs.dtype.names[1:]:\n",
    "    plt.semilogx(chdobs['time'], chdobs[name], marker='.', label=name)\n",
    "plt.legend();"
   ]
  },
  {
   "cell_type": "code",
   "execution_count": null,
   "metadata": {},
   "outputs": [],
   "source": [
    "# plot the river results\n",
    "for name in rivobs.dtype.names[1:]:\n",
    "    plt.semilogx(rivobs['time'], rivobs[name], marker='.', label=name)\n",
    "plt.legend();"
   ]
  },
  {
   "cell_type": "code",
   "execution_count": null,
   "metadata": {},
   "outputs": [],
   "source": []
  }
 ],
 "metadata": {
  "kernelspec": {
   "display_name": "Python 3",
   "language": "python",
   "name": "python3"
  },
  "language_info": {
   "codemirror_mode": {
    "name": "ipython",
    "version": 3
   },
   "file_extension": ".py",
   "mimetype": "text/x-python",
   "name": "python",
   "nbconvert_exporter": "python",
   "pygments_lexer": "ipython3",
   "version": "3.6.6"
  }
 },
 "nbformat": 4,
 "nbformat_minor": 2
}
