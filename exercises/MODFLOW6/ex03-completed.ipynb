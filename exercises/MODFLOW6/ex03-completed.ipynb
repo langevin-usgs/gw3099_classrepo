{
 "cells": [
  {
   "cell_type": "markdown",
   "metadata": {},
   "source": [
    "# Advanced Modeling of Groundwater Flow (GW3099)\n",
    "![alt text](..\\img\\header.jpg)\n",
    "\n",
    "# Exercise 3: MODFLOW 6\n",
    "The purpose of this exercise is to use MODFLOW 6 and the DISV package to simulate example problem 1 using Flopy."
   ]
  },
  {
   "cell_type": "markdown",
   "metadata": {},
   "source": [
    "## Part I. Setup Notebook"
   ]
  },
  {
   "cell_type": "code",
   "execution_count": null,
   "metadata": {},
   "outputs": [],
   "source": [
    "%matplotlib inline\n",
    "import sys\n",
    "import os\n",
    "import shutil\n",
    "import numpy as np\n",
    "import matplotlib as mpl\n",
    "import matplotlib.pyplot as plt\n",
    "import flopy\n",
    "\n",
    "import config\n",
    "\n",
    "print(sys.version)\n",
    "print('python executable: {}'.format(sys.executable))\n",
    "print('numpy version: {}'.format(np.__version__))\n",
    "print('matplotlib version: {}'.format(mpl.__version__))\n",
    "print('flopy version: {}'.format(flopy.__version__))"
   ]
  },
  {
   "cell_type": "markdown",
   "metadata": {},
   "source": [
    "## Part II. Create, Run, and Post-Process MODFLOW 6 Model"
   ]
  },
  {
   "cell_type": "code",
   "execution_count": null,
   "metadata": {},
   "outputs": [],
   "source": [
    "# model info\n",
    "model_name = 'ex03'\n",
    "model_ws = './ex03-completed'\n",
    "\n",
    "# grid properties\n",
    "nlay = 3\n",
    "nrow = 21\n",
    "ncol = 20\n",
    "ncpl = nrow * ncol\n",
    "delr = 500.\n",
    "delc = 500.\n",
    "top = 400.\n",
    "botm = [220., 200., 0.]\n",
    "\n",
    "# mapping array from row and column to cell number\n",
    "mapcell = np.arange(nrow * ncol, dtype=np.int).reshape((nrow, ncol))\n",
    "\n",
    "# hydraulic properties\n",
    "hk0 = 50.\n",
    "vk0 = 10.\n",
    "hk1 = 0.01\n",
    "vk1 = 0.01\n",
    "hk2 = 200.\n",
    "vk2 = 20\n",
    "\n",
    "# boundary conditions\n",
    "welspd = [[(3 - 1, mapcell[11 - 1, 10 - 1]), -1.5e5]]\n",
    "rech = 0.005\n",
    "rivspd = [[(0, mapcell[ir, ncol-1]), 320., 1.e5, 318.] for ir in range(nrow)]"
   ]
  },
  {
   "cell_type": "code",
   "execution_count": null,
   "metadata": {},
   "outputs": [],
   "source": [
    "xv = np.linspace(0, 500. * ncol, ncol+1)\n",
    "yv = np.linspace(500 * nrow, 0, nrow + 1)\n",
    "xv, yv = np.meshgrid(xv, yv)\n",
    "xv = xv.ravel()\n",
    "yv = yv.ravel()\n",
    "\n",
    "def get_vlist(i, j, nrow, ncol):\n",
    "    v1 = i * (ncol + 1) + j\n",
    "    v2 = v1 + 1\n",
    "    v3 = v2 + ncol + 1\n",
    "    v4 = v3 - 1\n",
    "    return [v1, v2, v3, v4]\n",
    "\n",
    "iverts = []\n",
    "for i in range(nrow):\n",
    "    for j in range(ncol):\n",
    "        iverts.append(get_vlist(i, j, nrow, ncol))\n",
    "\n",
    "nvert = xv.shape[0]\n",
    "verts = np.hstack((xv.reshape(nvert, 1), yv.reshape(nvert, 1)))\n",
    "\n",
    "cellxy = np.empty((nvert, 2))\n",
    "for icpl in range(ncpl):\n",
    "    iv = iverts[icpl]\n",
    "    cellxy[icpl, 0] = (xv[iv[0]] + xv[iv[1]]) / 2.\n",
    "    cellxy[icpl, 1] = (yv[iv[1]] + yv[iv[2]]) / 2."
   ]
  },
  {
   "cell_type": "code",
   "execution_count": null,
   "metadata": {},
   "outputs": [],
   "source": [
    "fig = plt.figure(figsize=(10, 10))\n",
    "ax = fig.add_subplot(1, 1, 1, aspect='equal')\n",
    "flopy.plot.plotutil.plot_cvfd(verts, iverts, facecolor='none', ax=ax)\n",
    "ax.plot(xv, yv, 'bo')\n",
    "ax.plot(cellxy[:, 0], cellxy[:, 1], 'ro')\n",
    "ax.set_xlim(xv.min(), xv.max())\n",
    "ax.set_ylim(yv.min(), yv.max())"
   ]
  },
  {
   "cell_type": "code",
   "execution_count": null,
   "metadata": {},
   "outputs": [],
   "source": [
    "# need to create cell2d, which is [[icpl, xc, yc, nv, iv1, iv2, iv3, iv4]]\n",
    "cell2d = [[icpl, cellxy[icpl, 0], cellxy[icpl, 1], 4, *iverts[icpl]] for icpl in range(ncpl)]\n",
    "vertices = [[ivert, verts[ivert, 0], verts[ivert, 1]] for ivert in range(nvert)]"
   ]
  },
  {
   "cell_type": "code",
   "execution_count": null,
   "metadata": {},
   "outputs": [],
   "source": [
    "# create simulation\n",
    "sim = flopy.mf6.MFSimulation(sim_name=model_name, version='mf6', exe_name=config.mf6exe, \n",
    "                             sim_ws=model_ws)\n",
    "\n",
    "# create tdis package\n",
    "tdis_rc = None #[(1000.0, 1, 1.0)]\n",
    "tdis = flopy.mf6.ModflowTdis(sim)\n",
    "\n",
    "# create gwf model\n",
    "gwf = flopy.mf6.ModflowGwf(sim, modelname=model_name,\n",
    "                           model_nam_file='{}.nam'.format(model_name))\n",
    "gwf.name_file.save_flows = True\n",
    "\n",
    "# create iterative model solution and register the gwf model with it\n",
    "ims = flopy.mf6.ModflowIms(sim)\n",
    "\n",
    "# disv\n",
    "disv = flopy.mf6.ModflowGwfdisv(gwf, nlay=nlay, ncpl=ncpl, \n",
    "                                top=top, botm=botm, \n",
    "                                nvert=nvert, vertices=vertices, \n",
    "                                cell2d=cell2d)\n",
    "\n",
    "# initial conditions\n",
    "ic = flopy.mf6.ModflowGwfic(gwf, pname='ic', strt=320.)\n",
    "\n",
    "# node property flow\n",
    "npf = flopy.mf6.ModflowGwfnpf(gwf, save_specific_discharge=True,\n",
    "                              icelltype=[1,0,0], \n",
    "                              k=[50.0, 0.01, 200.0],\n",
    "                              k33=[10., 0.01, 20.])\n",
    "\n",
    "# wel\n",
    "wel = flopy.mf6.ModflowGwfwel(gwf, print_input=True,\n",
    "                              stress_period_data=welspd)\n",
    "\n",
    "# rch\n",
    "aux = [np.ones((nrow, ncol), dtype=np.int)*6]\n",
    "rch = flopy.mf6.ModflowGwfrcha(gwf, recharge=0.005, \n",
    "                               auxiliary=[('iface',)], \n",
    "                               aux={0: [6]})\n",
    "# riv\n",
    "riv = flopy.mf6.ModflowGwfriv(gwf, stress_period_data=rivspd)\n",
    "\n",
    "# output control\n",
    "oc = flopy.mf6.ModflowGwfoc(gwf, pname='oc', budget_filerecord='{}.cbc'.format(model_name),\n",
    "                            head_filerecord='{}.hds'.format(model_name),\n",
    "                            headprintrecord=[('COLUMNS', 10, 'WIDTH', 15,\n",
    "                                              'DIGITS', 6, 'GENERAL')],\n",
    "                            saverecord=[('HEAD', 'ALL'), ('BUDGET', 'ALL')],\n",
    "                            printrecord=[('HEAD', 'ALL'), ('BUDGET', 'ALL')])\n",
    "\n",
    "sim.write_simulation()\n",
    "sim.run_simulation()"
   ]
  },
  {
   "cell_type": "code",
   "execution_count": null,
   "metadata": {},
   "outputs": [],
   "source": [
    "# Load binary grid file\n",
    "fname = os.path.join(model_ws, model_name + '.disv.grb')\n",
    "grd = flopy.utils.MfGrdFile(fname, verbose=False)\n",
    "sr = grd.get_spatialreference()\n",
    "iverts, verts = grd.get_verts()\n",
    "vertc = grd.get_centroids()\n",
    "xc = vertc[:, 0]\n",
    "yc = vertc[:, 1]\n",
    "\n",
    "# load the heads and budget files\n",
    "fname = os.path.join(model_ws, model_name + '.hds')\n",
    "hdobj = flopy.utils.HeadFile(fname)\n",
    "head = hdobj.get_data()\n",
    "\n",
    "fname = os.path.join(model_ws, model_name + '.cbc')\n",
    "cbb = flopy.utils.CellBudgetFile(fname, precision='double')\n",
    "spdis = cbb.get_data(text='DATA-SPDIS')[0]\n",
    "qx = spdis['qx'].reshape(nlay, nrow, ncol)\n",
    "qy = spdis['qy'].reshape(nlay, nrow, ncol)\n",
    "qz = spdis['qz'].reshape(nlay, nrow, ncol)"
   ]
  },
  {
   "cell_type": "code",
   "execution_count": null,
   "metadata": {},
   "outputs": [],
   "source": [
    "# plot the results for each layer\n",
    "fig, axes = plt.subplots(nrows=3, ncols=1, figsize=(15, 15))\n",
    "vmin = head.min()\n",
    "vmax = head.max()\n",
    "levels = np.linspace(vmin, vmax, 20)\n",
    "\n",
    "for ilay in range(nlay):\n",
    "    ax = axes[ilay]\n",
    "    ax.set_title('Layer {}'.format(ilay + 1))\n",
    "    ax.set_aspect('equal')\n",
    "    modelmap = flopy.plot.ModelMap(sr=sr, layer=ilay, ax=ax)\n",
    "    v = modelmap.plot_cvfd(verts, iverts, edgecolor='black', a=head[ilay, 0, :], cmap='jet', ax=ax)\n",
    "    cs = modelmap.contour_array_cvfd(vertc, head[ilay, 0, :], colors='white', \n",
    "                               levels=levels, ax=ax)\n",
    "    plt.clabel(cs, fmt='%.1f', colors='white', fontsize=11)\n",
    "    hmin = head[ilay, 0, :].min()\n",
    "    hmax = head[ilay, 0, :].max()\n",
    "    t = ax.set_title('Model Layer {}; hmin={:6.2f}, hmax={:6.2f}'.format(ilay + 1, hmin, hmax))\n",
    "    ax.quiver(xc, yc, qx[ilay], qy[ilay])\n",
    "cb = fig.colorbar(v, ax=axes, shrink=0.5)"
   ]
  },
  {
   "cell_type": "markdown",
   "metadata": {},
   "source": [
    "## Part III. Create and Run MODPATH-7 Model"
   ]
  },
  {
   "cell_type": "code",
   "execution_count": null,
   "metadata": {},
   "outputs": [],
   "source": [
    "# particles\n",
    "partlocs = [(mapcell[i, 0]) for i in range(nrow)]\n",
    "particledata = flopy.modpath.ParticleData(partlocs, structured=False)\n",
    "pg = flopy.modpath.ParticleGroup(particledata=particledata)"
   ]
  },
  {
   "cell_type": "code",
   "execution_count": null,
   "metadata": {},
   "outputs": [],
   "source": [
    "mp = flopy.modpath.Modpath7(modelname=model_name+'_mp', model_ws=model_ws, flowmodel=gwf, exe_name=config.mpexe)\n",
    "mpbas = flopy.modpath.Modpath7Bas(mp)\n",
    "mpsim = flopy.modpath.Modpath7Sim(mp, particlegroups=pg)\n",
    "mp.write_input()\n",
    "mp.run_model()"
   ]
  },
  {
   "cell_type": "code",
   "execution_count": null,
   "metadata": {},
   "outputs": [],
   "source": [
    "# load the pathline results\n",
    "fname = os.path.join(model_ws, model_name + '_mp.mppth')\n",
    "p = flopy.utils.PathlineFile(fname).get_alldata()"
   ]
  },
  {
   "cell_type": "code",
   "execution_count": null,
   "metadata": {},
   "outputs": [],
   "source": [
    "fig = plt.figure(figsize=(8, 8))\n",
    "ax = fig.add_subplot(1, 1, 1)\n",
    "mm = flopy.plot.ModelMap(sr=sr)\n",
    "mm.plot_grid(lw=0.5)\n",
    "mm.plot_pathline(p, layer='all', colors='k', label='Particle Paths')\n",
    "mm.ax.legend();"
   ]
  },
  {
   "cell_type": "code",
   "execution_count": null,
   "metadata": {},
   "outputs": [],
   "source": []
  }
 ],
 "metadata": {
  "kernelspec": {
   "display_name": "Python 3",
   "language": "python",
   "name": "python3"
  },
  "language_info": {
   "codemirror_mode": {
    "name": "ipython",
    "version": 3
   },
   "file_extension": ".py",
   "mimetype": "text/x-python",
   "name": "python",
   "nbconvert_exporter": "python",
   "pygments_lexer": "ipython3",
   "version": "3.6.6"
  }
 },
 "nbformat": 4,
 "nbformat_minor": 2
}
