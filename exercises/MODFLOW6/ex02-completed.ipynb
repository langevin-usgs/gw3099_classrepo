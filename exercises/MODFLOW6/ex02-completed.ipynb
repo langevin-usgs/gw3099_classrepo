{
 "cells": [
  {
   "cell_type": "markdown",
   "metadata": {},
   "source": [
    "# Advanced Modeling of Groundwater Flow (GW3099)\n",
    "![alt text](..\\img\\header.jpg)\n",
    "\n",
    "# Exercise 2: MODFLOW 6\n",
    "The purpose of this exercise is to use MODFLOW 6 to simulate example problem 1 using Flopy."
   ]
  },
  {
   "cell_type": "markdown",
   "metadata": {},
   "source": [
    "## Part I. Setup Notebook"
   ]
  },
  {
   "cell_type": "code",
   "execution_count": null,
   "metadata": {},
   "outputs": [],
   "source": [
    "%matplotlib inline\n",
    "from __future__ import print_function\n",
    "import sys\n",
    "import os\n",
    "import shutil\n",
    "import numpy as np\n",
    "import matplotlib as mpl\n",
    "import matplotlib.pyplot as plt\n",
    "import flopy\n",
    "\n",
    "if '../..' not in sys.path:\n",
    "    sys.path.append('../..')\n",
    "import config\n",
    "\n",
    "print(sys.version)\n",
    "print('python executable: {}'.format(sys.executable))\n",
    "print('numpy version: {}'.format(np.__version__))\n",
    "print('matplotlib version: {}'.format(mpl.__version__))\n",
    "print('flopy version: {}'.format(flopy.__version__))"
   ]
  },
  {
   "cell_type": "markdown",
   "metadata": {},
   "source": [
    "## Part II. Create, Run, and Post-Process MODFLOW-2005 Model"
   ]
  },
  {
   "cell_type": "code",
   "execution_count": null,
   "metadata": {},
   "outputs": [],
   "source": [
    "# model info\n",
    "model_name = 'ex02'\n",
    "model_ws = './ex02-completed'\n",
    "\n",
    "# grid properties\n",
    "nlay = 3\n",
    "nrow = 21\n",
    "ncol = 20\n",
    "delr = 500.\n",
    "delc = 500.\n",
    "top = 400.\n",
    "botm = [220., 200., 0.]\n",
    "\n",
    "# hydraulic properties\n",
    "hk0 = 50.\n",
    "vk0 = 10.\n",
    "hk1 = 0.01\n",
    "vk1 = 0.01\n",
    "hk2 = 200.\n",
    "vk2 = 20\n",
    "\n",
    "# boundary conditions\n",
    "welspd = [[(3 - 1, 11 - 1, 10 - 1), -1.5e5]]\n",
    "rech = 0.005\n",
    "rivspd = [[(0, ir, ncol-1), 320., 1.e5, 318.] for ir in range(nrow)]"
   ]
  },
  {
   "cell_type": "code",
   "execution_count": null,
   "metadata": {},
   "outputs": [],
   "source": [
    "# create simulation\n",
    "sim = flopy.mf6.MFSimulation(sim_name=model_name, version='mf6', exe_name=config.mf6exe, \n",
    "                             sim_ws=model_ws)\n",
    "\n",
    "# create tdis package\n",
    "tdis_rc = [(1000.0, 1, 1.0)]\n",
    "tdis = flopy.mf6.ModflowTdis(sim, pname='tdis', time_units='DAYS', \n",
    "                             perioddata=tdis_rc)\n",
    "\n",
    "# create gwf model\n",
    "gwf = flopy.mf6.ModflowGwf(sim, modelname=model_name,\n",
    "                           model_nam_file='{}.nam'.format(model_name))\n",
    "gwf.name_file.save_flows = True\n",
    "\n",
    "# create iterative model solution and register the gwf model with it\n",
    "ims = flopy.mf6.ModflowIms(sim, pname='ims', print_option='SUMMARY', \n",
    "                           complexity='SIMPLE', outer_hclose=1.e-5, \n",
    "                           outer_maximum=100, under_relaxation='NONE', \n",
    "                           inner_maximum=100, inner_hclose=1.e-6, \n",
    "                           rcloserecord=0.1, linear_acceleration='BICGSTAB', \n",
    "                           scaling_method='NONE', reordering_method='NONE', \n",
    "                           relaxation_factor=0.99)\n",
    "sim.register_ims_package(ims, [gwf.name])\n",
    "\n",
    "# dis\n",
    "dis = flopy.mf6.ModflowGwfdis(gwf, nlay=nlay, nrow=nrow, ncol=ncol,\n",
    "                              delr=delr, delc=delc,\n",
    "                              top=top, botm=botm)\n",
    "\n",
    "# initial conditions\n",
    "ic = flopy.mf6.ModflowGwfic(gwf, pname='ic', strt=320.)\n",
    "\n",
    "# node property flow\n",
    "npf = flopy.mf6.ModflowGwfnpf(gwf, xt3doptions=[('xt3d')], \n",
    "                              icelltype=[1,0,0], \n",
    "                              k=[50.0, 0.01, 200.0],\n",
    "                              k33=[10., 0.01, 20.])\n",
    "\n",
    "# wel\n",
    "wel = flopy.mf6.ModflowGwfwel(gwf, print_input=True,\n",
    "                              stress_period_data=welspd)\n",
    "\n",
    "# rch\n",
    "aux = [np.ones((nrow, ncol), dtype=np.int)*6]\n",
    "rch = flopy.mf6.ModflowGwfrcha(gwf, recharge=0.005, \n",
    "                               auxiliary=[('iface',)], \n",
    "                               aux={0: [6]})\n",
    "# riv\n",
    "riv = flopy.mf6.ModflowGwfriv(gwf, stress_period_data=rivspd)\n",
    "\n",
    "# output control\n",
    "oc = flopy.mf6.ModflowGwfoc(gwf, pname='oc', budget_filerecord='{}.cbc'.format(model_name),\n",
    "                            head_filerecord='{}.hds'.format(model_name),\n",
    "                            headprintrecord=[('COLUMNS', 10, 'WIDTH', 15,\n",
    "                                              'DIGITS', 6, 'GENERAL')],\n",
    "                            saverecord=[('HEAD', 'ALL'), ('BUDGET', 'ALL')],\n",
    "                            printrecord=[('HEAD', 'ALL'), ('BUDGET', 'ALL')])\n",
    "\n",
    "sim.write_simulation()\n",
    "sim.run_simulation()"
   ]
  },
  {
   "cell_type": "code",
   "execution_count": null,
   "metadata": {},
   "outputs": [],
   "source": [
    "# load the heads and budget files\n",
    "fname = os.path.join(model_ws, model_name + '.hds')\n",
    "hdobj = flopy.utils.HeadFile(fname)\n",
    "head = hdobj.get_data()\n",
    "\n",
    "fname = os.path.join(model_ws, model_name + '.cbc')\n",
    "cbb = flopy.utils.CellBudgetFile(fname, precision='double')\n",
    "#frf = cbb.get_data(text='FLOW RIGHT FACE')[0]\n",
    "#fff = cbb.get_data(text='FLOW FRONT FACE')[0]"
   ]
  },
  {
   "cell_type": "code",
   "execution_count": null,
   "metadata": {},
   "outputs": [],
   "source": [
    "# plot the results for each layer\n",
    "fig, axes = plt.subplots(nrows=1, ncols=3, figsize=(15, 8))\n",
    "vmin = head.min()\n",
    "vmax = head.max()\n",
    "levels = np.linspace(vmin, vmax, 20)\n",
    "\n",
    "for ilay in range(nlay):\n",
    "    ax = axes[ilay]\n",
    "    #ax = fig.add_subplot(1, nlay, ilay + 1, aspect='equal')\n",
    "    ax.set_title('Layer {}'.format(ilay + 1))\n",
    "    ax.set_aspect('equal')\n",
    "    modelmap = flopy.plot.ModelMap(model=m, layer=ilay, ax=ax)\n",
    "    quadmesh = modelmap.plot_array(head, masked_values=[999.], alpha=0.5, \n",
    "                                   vmin=vmin, vmax=vmax, cmap='jet')\n",
    "    linecollection = modelmap.plot_grid()\n",
    "    contour_set = modelmap.contour_array(head, levels=levels, colors='white')\n",
    "    quiver = modelmap.plot_discharge(frf, fff, head=head)\n",
    "cb = fig.colorbar(quadmesh, ax=axes, shrink=0.5)"
   ]
  },
  {
   "cell_type": "markdown",
   "metadata": {},
   "source": [
    "## Part II. Create and Run MODPATH-7 Model"
   ]
  },
  {
   "cell_type": "code",
   "execution_count": null,
   "metadata": {},
   "outputs": [],
   "source": [
    "# particles\n",
    "partlocs = [(0, i, 0) for i in range(nrow)]\n",
    "particles = flopy.modpath.Particles.create_particles(partlocs)\n",
    "pg = flopy.modpath.Particles(particledata=particles)"
   ]
  },
  {
   "cell_type": "code",
   "execution_count": null,
   "metadata": {},
   "outputs": [],
   "source": [
    "mp = flopy.modpath.Modpath7(modelname='ex01_mp', model_ws=model_ws, flowmodel=m, exe_name='mp7')\n",
    "mpbas = flopy.modpath.Modpath7Bas(mp)\n",
    "mpsim = flopy.modpath.Modpath7Sim(mp, particlegroups=pg)\n",
    "mp.write_input()\n",
    "mp.run_model()"
   ]
  },
  {
   "cell_type": "code",
   "execution_count": null,
   "metadata": {},
   "outputs": [],
   "source": [
    "# load the pathline results\n",
    "fname = os.path.join(model_ws, 'ex01_mp.mppth')\n",
    "p = flopy.utils.PathlineFile(fname).get_alldata()"
   ]
  },
  {
   "cell_type": "code",
   "execution_count": null,
   "metadata": {},
   "outputs": [],
   "source": [
    "fig = plt.figure(figsize=(8, 8))\n",
    "ax = fig.add_subplot(1, 1, 1)\n",
    "mm = flopy.plot.ModelMap(model=m)\n",
    "mm.plot_grid(lw=0.5)\n",
    "mm.plot_pathline(p, layer='all', colors='k', label='Particle Paths')\n",
    "#mm.plot_pathline(pw0, layer='all', color='blue', label='captured by wells')\n",
    "#mm.plot_pathline(pr0, layer='all', color='green', label='captured by rivers')\n",
    "#mm.plot_endpoint(epd0, direction='starting', colorbar=True)\n",
    "mm.ax.legend();"
   ]
  },
  {
   "cell_type": "markdown",
   "metadata": {},
   "source": [
    "## Part III. Create and Run MT3D Model"
   ]
  },
  {
   "cell_type": "code",
   "execution_count": null,
   "metadata": {},
   "outputs": [],
   "source": [
    "# transport boundary conditions\n",
    "icbund = np.ones((nlay, nrow, ncol), dtype=np.int)\n",
    "icbund[0, int(nrow / 2), 0] = -1\n",
    "sconc = np.zeros((nlay, nrow, ncol), dtype=np.float32)\n",
    "sconc[0, int(nrow / 2), 0] = 100\n",
    "\n",
    "# observations\n",
    "rhalf = int(nrow / 2)\n",
    "chalf = int(ncol / 2)\n",
    "obs = [(il, rhalf, chalf) for il in range(nlay)]"
   ]
  },
  {
   "cell_type": "code",
   "execution_count": null,
   "metadata": {},
   "outputs": [],
   "source": [
    "modelname = 'ex01_mt3d'\n",
    "mt = flopy.mt3d.Mt3dms(modelname=modelname, model_ws=model_ws, modflowmodel=m, exe_name='mt3dms')\n",
    "btn = flopy.mt3d.Mt3dBtn(mt, icbund=icbund, sconc=sconc, perlen=100000., nprs=-1, obs=obs)\n",
    "adv = flopy.mt3d.Mt3dAdv(mt, mixelm=0)\n",
    "dsp = flopy.mt3d.Mt3dDsp(mt, al=10.)\n",
    "ssm = flopy.mt3d.Mt3dSsm(mt)\n",
    "gcg = flopy.mt3d.Mt3dGcg(mt)\n",
    "mt.write_input()\n",
    "mt.run_model(silent=False, normal_msg='Program completed.')"
   ]
  },
  {
   "cell_type": "code",
   "execution_count": null,
   "metadata": {},
   "outputs": [],
   "source": [
    "# load the concentrations\n",
    "fname = os.path.join(model_ws, 'MT3D001.UCN')\n",
    "cobj = flopy.utils.UcnFile(fname)\n",
    "conc = cobj.get_data()\n",
    "\n",
    "# load observations\n",
    "fname = os.path.join(model_ws, 'MT3D001.OBS')\n",
    "cobs = flopy.mt3d.Mt3dms.load_obs(fname)"
   ]
  },
  {
   "cell_type": "code",
   "execution_count": null,
   "metadata": {},
   "outputs": [],
   "source": [
    "# plot the results for each layer\n",
    "fig, axes = plt.subplots(nrows=1, ncols=3, figsize=(15, 8))\n",
    "a = conc\n",
    "a = np.ma.masked_less(a, 1.e-4)\n",
    "vmin = a.min()\n",
    "vmax = a.max()\n",
    "levels = [0.01, .1, 1, 10., 100.]\n",
    "\n",
    "for ilay in range(nlay):\n",
    "    ax = axes[ilay]\n",
    "    ax.set_title('Layer {}'.format(ilay + 1))\n",
    "    ax.set_aspect('equal')\n",
    "    modelmap = flopy.plot.ModelMap(model=m, layer=ilay, ax=ax)\n",
    "    quadmesh = modelmap.plot_array(a, masked_values=[999.], alpha=0.5, \n",
    "                                   vmin=vmin, vmax=vmax, cmap='jet')\n",
    "    linecollection = modelmap.plot_grid()\n",
    "    contour_set = modelmap.contour_array(a, levels=levels, colors='k')\n",
    "    quiver = modelmap.plot_discharge(frf, fff, head=head)\n",
    "cb = fig.colorbar(quadmesh, ax=axes, shrink=0.5)"
   ]
  },
  {
   "cell_type": "code",
   "execution_count": null,
   "metadata": {},
   "outputs": [],
   "source": [
    "fig = plt.figure(figsize=(8, 3))\n",
    "ax = fig.add_subplot(1, 1, 1)\n",
    "modelxsect = flopy.plot.ModelCrossSection(model=m, line={'row': rhalf})\n",
    "linecollection = modelxsect.plot_grid()\n",
    "modelxsect.plot_array(a, head=head, cmap='jet')\n",
    "t = ax.set_title('Column {}'.format(rhalf + 1))"
   ]
  },
  {
   "cell_type": "code",
   "execution_count": null,
   "metadata": {},
   "outputs": [],
   "source": [
    "fig, ax = plt.subplots(figsize=(10,5))\n",
    "for name in cobs.dtype.names:\n",
    "    if name.startswith('('):\n",
    "        ax.plot(cobs['time'], cobs[name], label=name)\n",
    "ax.legend()\n",
    "ax.set_xlabel('Time')\n",
    "ax.set_ylabel('Concentration')\n",
    "ax.set_title('Simulated Breakthrough Curve');"
   ]
  },
  {
   "cell_type": "code",
   "execution_count": null,
   "metadata": {},
   "outputs": [],
   "source": []
  }
 ],
 "metadata": {
  "kernelspec": {
   "display_name": "Python 3",
   "language": "python",
   "name": "python3"
  },
  "language_info": {
   "codemirror_mode": {
    "name": "ipython",
    "version": 3
   },
   "file_extension": ".py",
   "mimetype": "text/x-python",
   "name": "python",
   "nbconvert_exporter": "python",
   "pygments_lexer": "ipython3",
   "version": "3.6.4"
  }
 },
 "nbformat": 4,
 "nbformat_minor": 2
}
