{
 "cells": [
  {
   "cell_type": "code",
   "execution_count": null,
   "metadata": {},
   "outputs": [],
   "source": [
    "import os\n",
    "import numpy as np\n",
    "import flopy\n",
    "import matplotlib.pyplot as plt"
   ]
  },
  {
   "cell_type": "code",
   "execution_count": null,
   "metadata": {},
   "outputs": [],
   "source": [
    "# load the existing model\n",
    "model_ws = './ex06-data'\n",
    "s = flopy.mf6.MFSimulation().load(sim_ws=model_ws)"
   ]
  },
  {
   "cell_type": "code",
   "execution_count": null,
   "metadata": {},
   "outputs": [],
   "source": [
    "# change work space\n",
    "model_ws = './ex06-completed'\n",
    "s.set_sim_path(model_ws)"
   ]
  },
  {
   "cell_type": "code",
   "execution_count": null,
   "metadata": {},
   "outputs": [],
   "source": [
    "# get the groundwater model\n",
    "gwf = s.get_model('gwt')"
   ]
  },
  {
   "cell_type": "code",
   "execution_count": null,
   "metadata": {},
   "outputs": [],
   "source": [
    "# add head observations\n",
    "head_obs = [('W1_1', 'HEAD', (0, 15, 18)), ('W1_3', 'HEAD', (2, 15, 18)), ('W1_5', 'HEAD', (4, 15, 18))]\n",
    "gwobs = flopy.mf6.ModflowUtlobs(gwf, continuous={'gwt.head.obs.csv': head_obs})"
   ]
  },
  {
   "cell_type": "code",
   "execution_count": null,
   "metadata": {},
   "outputs": [],
   "source": [
    "# determine where the chds representing the lakes are\n",
    "chd2 = gwf.get_package('LAK-1')\n",
    "chd2.stress_period_data.get_data(key=0)"
   ]
  },
  {
   "cell_type": "code",
   "execution_count": null,
   "metadata": {},
   "outputs": [],
   "source": [
    "# add chd observations\n",
    "chd2obsname = 'gwt.lak.obs'\n",
    "chd2.obs_filerecord.set_data([chd2obsname])\n",
    "chd_obs = [('LAKE-1', 'CHD', 'lake1'), ('LAKE-2', 'CHD', 'lake2')]\n",
    "chdobs = flopy.mf6.ModflowUtlobs(gwf, continuous={'gwt.lake.obs.csv': chd_obs}, parent_file=chd2, fname=chd2obsname)"
   ]
  },
  {
   "cell_type": "code",
   "execution_count": null,
   "metadata": {},
   "outputs": [],
   "source": [
    "# determine where the rivers are\n",
    "riv = gwf.get_package('RIV-1')\n",
    "riv.stress_period_data.get_data(key=0)"
   ]
  },
  {
   "cell_type": "code",
   "execution_count": null,
   "metadata": {},
   "outputs": [],
   "source": [
    "# add river observations\n",
    "rivobsname = 'gwt.riv.obs'\n",
    "riv.obs_filerecord.set_data([rivobsname])\n",
    "riv_obs = [('RIVER-1', 'RIV', 'seg1'), ('RIVER-2', 'RIV', 'seg2'), \n",
    "           ('RIVER-3', 'RIV', 'seg3'), ('RIVER-4', 'RIV', 'seg4')]\n",
    "rivobs = flopy.mf6.ModflowUtlobs(gwf, continuous={'gwt.riv.obs.csv': riv_obs}, parent_file=riv, fname=rivobsname)"
   ]
  },
  {
   "cell_type": "code",
   "execution_count": null,
   "metadata": {},
   "outputs": [],
   "source": [
    "# write the model files to ex06-completed and run the simulation\n",
    "s.write_simulation()\n",
    "s.run_simulation()"
   ]
  },
  {
   "cell_type": "code",
   "execution_count": null,
   "metadata": {},
   "outputs": [],
   "source": [
    "# retrieve the heads\n",
    "hobj = flopy.utils.HeadFile(os.path.join(model_ws, 'gwt.hds'))\n",
    "times= hobj.get_times()"
   ]
  },
  {
   "cell_type": "code",
   "execution_count": null,
   "metadata": {},
   "outputs": [],
   "source": [
    "# create a spatial reference from the grb\n",
    "grb = flopy.utils.MfGrdFile(os.path.join(model_ws, 'gwt.dis.grb'), )\n",
    "sr = grb.get_spatialreference()\n",
    "sr.get_extent()"
   ]
  },
  {
   "cell_type": "code",
   "execution_count": null,
   "metadata": {},
   "outputs": [],
   "source": [
    "h = hobj.get_data(totim=times[0])\n",
    "mm = flopy.plot.ModelMap(sr=sr)\n",
    "mm.plot_array(h, masked_values=[1e+30])\n",
    "c = mm.contour_array(h, masked_values=[1e+30], colors='white', levels=np.arange(30, 50, 2))\n",
    "plt.clabel(c, fmt='%3d');"
   ]
  },
  {
   "cell_type": "code",
   "execution_count": null,
   "metadata": {},
   "outputs": [],
   "source": [
    "h = hobj.get_data(totim=times[-1])\n",
    "mm = flopy.plot.ModelMap(sr=sr)\n",
    "mm.plot_array(h, masked_values=[1e+30])\n",
    "c = mm.contour_array(h, masked_values=[1e+30], colors='white', levels=np.arange(30, 50, 2))\n",
    "plt.clabel(c, fmt='%3d');"
   ]
  },
  {
   "cell_type": "code",
   "execution_count": null,
   "metadata": {},
   "outputs": [],
   "source": [
    "# load and plot the gwt observations\n",
    "gwobs = np.genfromtxt(os.path.join(model_ws, 'gwt.head.obs.csv'), delimiter=',', names=True)\n",
    "for name in gwobs.dtype.names[1:]:\n",
    "    plt.semilogx(gwobs['time'], gwobs[name], marker='.', label=name)\n",
    "plt.legend()"
   ]
  },
  {
   "cell_type": "code",
   "execution_count": null,
   "metadata": {},
   "outputs": [],
   "source": [
    "# load chd and river obs\n",
    "chdobs = np.genfromtxt(os.path.join(model_ws, 'gwt.lake.obs.csv'), delimiter=',', names=True)\n",
    "rivobs = np.genfromtxt(os.path.join(model_ws, 'gwt.riv.obs.csv'), delimiter=',', names=True)"
   ]
  },
  {
   "cell_type": "code",
   "execution_count": null,
   "metadata": {},
   "outputs": [],
   "source": [
    "# plot the chd lake results\n",
    "for name in chdobs.dtype.names[1:]:\n",
    "    plt.semilogx(chdobs['time'], chdobs[name], marker='.', label=name)\n",
    "plt.legend();"
   ]
  },
  {
   "cell_type": "code",
   "execution_count": null,
   "metadata": {},
   "outputs": [],
   "source": [
    "# plot the river results\n",
    "for name in rivobs.dtype.names[1:]:\n",
    "    plt.semilogx(rivobs['time'], rivobs[name], marker='.', label=name)\n",
    "plt.legend();"
   ]
  },
  {
   "cell_type": "code",
   "execution_count": null,
   "metadata": {},
   "outputs": [],
   "source": []
  }
 ],
 "metadata": {
  "kernelspec": {
   "display_name": "Python 3",
   "language": "python",
   "name": "python3"
  },
  "language_info": {
   "codemirror_mode": {
    "name": "ipython",
    "version": 3
   },
   "file_extension": ".py",
   "mimetype": "text/x-python",
   "name": "python",
   "nbconvert_exporter": "python",
   "pygments_lexer": "ipython3",
   "version": "3.6.4"
  }
 },
 "nbformat": 4,
 "nbformat_minor": 2
}
