{
 "cells": [
  {
   "cell_type": "markdown",
   "metadata": {},
   "source": [
    "# Advanced Modeling of Groundwater Flow (GW3099)\n",
    "![alt text](..\\img\\header.jpg)\n",
    "\n",
    "# Exercise 1: MODFLOW 6\n",
    "The purpose of this exercise is to use read and plot the MODFLOW 6 results using Flopy."
   ]
  },
  {
   "cell_type": "code",
   "execution_count": null,
   "metadata": {},
   "outputs": [],
   "source": [
    "from __future__ import print_function\n",
    "%matplotlib inline\n",
    "import sys\n",
    "import os\n",
    "import shutil\n",
    "import numpy as np\n",
    "import matplotlib as mpl\n",
    "import matplotlib.pyplot as plt\n",
    "import flopy\n",
    "\n",
    "import config\n",
    "\n",
    "print(sys.version)\n",
    "print('python executable: {}'.format(sys.executable))\n",
    "print('numpy version: {}'.format(np.__version__))\n",
    "print('matplotlib version: {}'.format(mpl.__version__))\n",
    "print('flopy version: {}'.format(flopy.__version__))"
   ]
  },
  {
   "cell_type": "code",
   "execution_count": null,
   "metadata": {},
   "outputs": [],
   "source": [
    "model_ws = './ex01-completed'\n",
    "s = flopy.mf6.MFSimulation().load(sim_ws=model_ws)\n",
    "modelname = 'ex01' #s.model_names[0]"
   ]
  },
  {
   "cell_type": "code",
   "execution_count": null,
   "metadata": {},
   "outputs": [],
   "source": [
    "print('Model name is {}'.format(modelname))"
   ]
  },
  {
   "cell_type": "code",
   "execution_count": null,
   "metadata": {},
   "outputs": [],
   "source": [
    "gwf = s.get_model(modelname)"
   ]
  },
  {
   "cell_type": "code",
   "execution_count": null,
   "metadata": {},
   "outputs": [],
   "source": [
    "nlay = gwf.dis.nlay.get_data()\n",
    "nrow = gwf.dis.nrow.get_data()\n",
    "ncol = gwf.dis.ncol.get_data()\n",
    "print(nlay, nrow, ncol)"
   ]
  },
  {
   "cell_type": "code",
   "execution_count": null,
   "metadata": {},
   "outputs": [],
   "source": [
    "gwf.dis.top = 450"
   ]
  },
  {
   "cell_type": "code",
   "execution_count": null,
   "metadata": {},
   "outputs": [],
   "source": [
    "gwf.dis.top.array"
   ]
  },
  {
   "cell_type": "code",
   "execution_count": null,
   "metadata": {},
   "outputs": [],
   "source": [
    "gwf.riv"
   ]
  },
  {
   "cell_type": "code",
   "execution_count": null,
   "metadata": {},
   "outputs": [],
   "source": [
    "# run the model, if it hasn't been run yet\n",
    "if not os.path.isfile(os.path.join(model_ws, modelname + '.dis.grb')):\n",
    "    s.run_simulation()"
   ]
  },
  {
   "cell_type": "code",
   "execution_count": null,
   "metadata": {},
   "outputs": [],
   "source": [
    "# Load binary grid file\n",
    "fname = os.path.join(model_ws, modelname + '.dis.grb')\n",
    "grd = flopy.utils.MfGrdFile(fname, verbose=False)\n",
    "sr = grd.get_spatialreference()\n",
    "\n",
    "# load the heads and budget files\n",
    "fname = os.path.join(model_ws, modelname + '.hds')\n",
    "hdobj = flopy.utils.HeadFile(fname)\n",
    "head = hdobj.get_data()\n",
    "\n",
    "fname = os.path.join(model_ws, modelname + '.cbc')\n",
    "cbb = flopy.utils.CellBudgetFile(fname, precision='double')\n",
    "spdis = cbb.get_data(text='DATA-SPDIS')[0]\n",
    "qx = spdis['qx'].reshape((nlay, nrow, ncol))\n",
    "qy = spdis['qy'].reshape((nlay, nrow, ncol))\n",
    "xg = sr.xcentergrid\n",
    "yg = sr.ycentergrid"
   ]
  },
  {
   "cell_type": "code",
   "execution_count": null,
   "metadata": {},
   "outputs": [],
   "source": [
    "# plot the results for each layer\n",
    "fig, axes = plt.subplots(nrows=nlay, ncols=1, figsize=(10, 15))\n",
    "vmin = head.min()\n",
    "vmax = head.max()\n",
    "levels = np.linspace(vmin, vmax, 20)\n",
    "\n",
    "for ilay in range(nlay):\n",
    "    ax = axes[ilay]\n",
    "    #ax = fig.add_subplot(1, nlay, ilay + 1, aspect='equal')\n",
    "    ax.set_title('Layer {}'.format(ilay + 1))\n",
    "    ax.set_aspect('equal')\n",
    "    modelmap = flopy.plot.ModelMap(sr=sr, layer=ilay, ax=ax)\n",
    "    quadmesh = modelmap.plot_array(head, masked_values=[999.], alpha=0.5, \n",
    "                                   vmin=vmin, vmax=vmax, cmap='jet')\n",
    "    linecollection = modelmap.plot_grid()\n",
    "    contour_set = modelmap.contour_array(head, levels=levels, colors='white')\n",
    "    #quiver = modelmap.plot_discharge(frf, fff, head=head)\n",
    "    ax.quiver(xg, yg, qx[ilay], qy[ilay])\n",
    "cb = fig.colorbar(quadmesh, ax=axes, shrink=0.5)"
   ]
  },
  {
   "cell_type": "code",
   "execution_count": null,
   "metadata": {},
   "outputs": [],
   "source": []
  }
 ],
 "metadata": {
  "kernelspec": {
   "display_name": "Python 3",
   "language": "python",
   "name": "python3"
  },
  "language_info": {
   "codemirror_mode": {
    "name": "ipython",
    "version": 3
   },
   "file_extension": ".py",
   "mimetype": "text/x-python",
   "name": "python",
   "nbconvert_exporter": "python",
   "pygments_lexer": "ipython3",
   "version": "3.6.6"
  }
 },
 "nbformat": 4,
 "nbformat_minor": 2
}
