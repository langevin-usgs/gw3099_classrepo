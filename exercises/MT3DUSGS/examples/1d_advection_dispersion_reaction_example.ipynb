{
 "cells": [
  {
   "cell_type": "markdown",
   "metadata": {},
   "source": [
    "# MT3D-USGS: Examples 1a through 1z\n",
    "\n",
    "We will use a 1D test problem to explore some of the b"
   ]
  },
  {
   "cell_type": "code",
   "execution_count": 40,
   "metadata": {},
   "outputs": [],
   "source": [
    "# Some needed libraries\n",
    "%matplotlib inline\n",
    "import os\n",
    "import sys\n",
    "import platform\n",
    "import numpy as np\n",
    "import matplotlib as mpl\n",
    "import matplotlib.pyplot as plt\n",
    "import flopy.utils.binaryfile as bf\n",
    "\n",
    "# run installed version of flopy or add local path\n",
    "try:\n",
    "    import flopy\n",
    "except:\n",
    "    fpth = os.path.abspath(os.path.join('..', '..'))\n",
    "    sys.path.append(fpth)\n",
    "    import flopy\n"
   ]
  },
  {
   "cell_type": "markdown",
   "metadata": {},
   "source": [
    "First, create a 1D MODFLOW model for generating a flow field for MT3D-USGS to work with.  We will store the MODFLOW model in an object called 'mf'. \n",
    "* A model name of \"1D\" will be the name given to all MODFLOW input files.\n",
    "* 1 Row x 100 Columns x 1 Layer x 2 stress periods\n",
    "* Will be using version: 'mfnwt', or MODFLOW-NWT"
   ]
  },
  {
   "cell_type": "code",
   "execution_count": 41,
   "metadata": {},
   "outputs": [],
   "source": [
    "modelpth = os.path.join('flopy')\n",
    "modelname = '1D'\n",
    "mfexe = 'mfnwt'\n",
    "mtexe = 'mt3dusgs'\n",
    "\n",
    "if platform.system() == 'Windows':\n",
    "    mfexe += '.exe'\n",
    "    mtexe += '.exe'\n",
    "\n",
    "# Make sure modelpth directory exists\n",
    "if not os.path.exists(modelpth):\n",
    "    os.mkdir(modelpth)\n",
    "\n",
    "# Instantiate MODFLOW object in flopy\n",
    "mf = flopy.modflow.Modflow(modelname=modelname, exe_name=mfexe, model_ws=modelpth, version='mfnwt')\n"
   ]
  },
  {
   "cell_type": "markdown",
   "metadata": {},
   "source": [
    "### Define model dimensions"
   ]
  },
  {
   "cell_type": "code",
   "execution_count": 46,
   "metadata": {},
   "outputs": [],
   "source": [
    "# Set up model discretization\n",
    "\n",
    "Lx = 1000.0 \n",
    "Ly = 10.0\n",
    "nrow = 1\n",
    "ncol = 100\n",
    "nlay = 1\n",
    "\n",
    "delr = Lx / ncol\n",
    "delc = Ly / nrow\n",
    "\n",
    "xmax = ncol * delr\n",
    "ymax = nrow * delc\n",
    "\n",
    "X, Y = np.meshgrid(np.linspace(delr / 2, xmax - delr / 2, ncol),    \n",
    "                   np.linspace(ymax - delc / 2, 0 + delc / 2, nrow))\n"
   ]
  },
  {
   "cell_type": "markdown",
   "metadata": {},
   "source": [
    "### Instantiate output control (oc) package for MODFLOW-NWT"
   ]
  },
  {
   "cell_type": "code",
   "execution_count": 47,
   "metadata": {},
   "outputs": [
    {
     "name": "stdout",
     "output_type": "stream",
     "text": [
      "WARNING: unit 14 of package OC already in use\n",
      "****Warning -- two packages of the same type:  <class 'flopy.modflow.mfoc.ModflowOc'> <class 'flopy.modflow.mfoc.ModflowOc'>\n",
      "replacing existing Package...\n"
     ]
    }
   ],
   "source": [
    "# Output Control: Create a flopy output control object\n",
    "oc = flopy.modflow.ModflowOc(mf)     "
   ]
  },
  {
   "cell_type": "markdown",
   "metadata": {},
   "source": [
    "### Instantiate solver package for MODFLOW-NWT"
   ]
  },
  {
   "cell_type": "code",
   "execution_count": 48,
   "metadata": {},
   "outputs": [
    {
     "name": "stdout",
     "output_type": "stream",
     "text": [
      "WARNING: unit 32 of package NWT already in use\n",
      "****Warning -- two packages of the same type:  <class 'flopy.modflow.mfnwt.ModflowNwt'> <class 'flopy.modflow.mfnwt.ModflowNwt'>\n",
      "replacing existing Package...\n"
     ]
    }
   ],
   "source": [
    "# Will use the Newton-Rhapson Solver.  Creating a flopy nwt package object...\n",
    "\n",
    "headtol = 1.0E-4 \n",
    "fluxtol = 5      \n",
    "maxiterout = 5000\n",
    "thickfact = 1E-06\n",
    "linmeth = 2      \n",
    "iprnwt = 1       \n",
    "ibotav = 1       \n",
    "\n",
    "nwt = flopy.modflow.ModflowNwt(mf, headtol=headtol, fluxtol=fluxtol, maxiterout=maxiterout,\n",
    "                               thickfact=thickfact, linmeth=linmeth, iprnwt=iprnwt, ibotav=ibotav,\n",
    "                               options='SIMPLE')\n"
   ]
  },
  {
   "cell_type": "markdown",
   "metadata": {},
   "source": [
    "### Instantiate discretization (DIS) package for MODFLOW-NWT"
   ]
  },
  {
   "cell_type": "code",
   "execution_count": 49,
   "metadata": {},
   "outputs": [],
   "source": [
    "grndElv = 5\n",
    "botm = 0.0\n",
    "\n",
    "# Stress period info\n",
    "Steady = [False, False]\n",
    "nstp = [1, 1]\n",
    "nper = 2\n",
    "tsmult = 1.\n",
    "perlen = [100,3550]\n",
    "\n",
    "# Create the discretization object\n",
    "# itmuni = 4 (days); lenuni = 1 (feet)\n",
    "dis = flopy.modflow.ModflowDis(mf, nlay, nrow, ncol, nper=nper, delr=delr, delc=delc,     \n",
    "                               top=grndElv, botm=botm, laycbd=0, itmuni=4, lenuni=2,\n",
    "                               steady=Steady, nstp=nstp, tsmult=tsmult, perlen=perlen) \n"
   ]
  },
  {
   "cell_type": "markdown",
   "metadata": {},
   "source": [
    "### Instantiate upstream weighting (UPW) flow package for MODFLOW-NWT"
   ]
  },
  {
   "cell_type": "code",
   "execution_count": 50,
   "metadata": {},
   "outputs": [],
   "source": [
    "# First line of UPW input is: IUPWCB HDRY NPUPW IPHDRY \n",
    "hdry = -1.00e+30\n",
    "iphdry = 0\n",
    "\n",
    "# Next variables are: LAYTYP, LAYAVG, CHANI, LAYVKA, LAYWET\n",
    "laytyp = 1          # >0: convertible\n",
    "layavg = 0          #  0: harmonic mean\n",
    "chani = 1.0         # >0: CHANI is the horizontal anisotropy for the entire layer\n",
    "layvka = 0          # =0: indicates VKA is vertical hydraulic conductivity\n",
    "laywet = 0          # Always set equal to zero in UPW package\n",
    "hk = 20\n",
    "# hani = 1          # Not needed because CHANI > 1\n",
    "vka = 0.5           # Is equal to vert. K b/c LAYVKA = 0\n",
    "ss = 0.000001\n",
    "sy = 0.20\n",
    "\n",
    "upw = flopy.modflow.ModflowUpw(mf, laytyp=laytyp, layavg=layavg, chani=chani, layvka=layvka,\n",
    "                               laywet=laywet, ipakcb=53, hdry=hdry, iphdry=iphdry, hk=hk, \n",
    "                               vka=vka, ss=ss, sy=sy)\n"
   ]
  },
  {
   "cell_type": "markdown",
   "metadata": {},
   "source": [
    "### Instantiate basic (BAS or BA6) package for MODFLOW-NWT"
   ]
  },
  {
   "cell_type": "code",
   "execution_count": 51,
   "metadata": {},
   "outputs": [],
   "source": [
    "ibnd1 = np.ones((nrow, ncol))\n",
    "sthd1 = np.ones((nrow, ncol)) * 10.\n",
    "\n",
    "hdry = 999.0\n",
    "\n",
    "bas = flopy.modflow.ModflowBas(mf, ibound=ibnd1, hnoflo=hdry, strt=sthd1)"
   ]
  },
  {
   "cell_type": "markdown",
   "metadata": {},
   "source": [
    "### Instantiate general head boundary (GHB) package for MODFLOW-NWT"
   ]
  },
  {
   "cell_type": "code",
   "execution_count": 52,
   "metadata": {},
   "outputs": [],
   "source": [
    "# GHB boundaries are use to create a gradient driving flow from left ot right\n",
    "\n",
    "leftside_hd  = 40.\n",
    "rightside_hd = 10.\n",
    "cond         = 100.\n",
    "elev_slp     = (308.82281 - 298.83649) / (ncol - 1)\n",
    "\n",
    "sp = []\n",
    "sp.append([nlay - 1, nrow - 1, 0, leftside_hd, cond])\n",
    "sp.append([nlay - 1, nrow - 1, ncol - 1, rightside_hd, cond])\n",
    "\n",
    "ghb = flopy.modflow.ModflowGhb(mf, stress_period_data = sp)\n"
   ]
  },
  {
   "cell_type": "markdown",
   "metadata": {},
   "source": [
    "### Instantiate linkage with mass transport routing (LMT) package for MODFLOW-NWT (generates linker file)"
   ]
  },
  {
   "cell_type": "code",
   "execution_count": 53,
   "metadata": {},
   "outputs": [],
   "source": [
    "lmt = flopy.modflow.ModflowLmt(mf, output_file_name='1D.ftl', output_file_header='extended',\n",
    "                               output_file_format='formatted')\n"
   ]
  },
  {
   "cell_type": "markdown",
   "metadata": {},
   "source": [
    "# Switching gears to MT3D-USGS"
   ]
  },
  {
   "cell_type": "code",
   "execution_count": null,
   "metadata": {},
   "outputs": [],
   "source": []
  },
  {
   "cell_type": "code",
   "execution_count": null,
   "metadata": {},
   "outputs": [],
   "source": []
  },
  {
   "cell_type": "code",
   "execution_count": null,
   "metadata": {},
   "outputs": [],
   "source": []
  },
  {
   "cell_type": "code",
   "execution_count": null,
   "metadata": {},
   "outputs": [],
   "source": []
  },
  {
   "cell_type": "code",
   "execution_count": null,
   "metadata": {},
   "outputs": [],
   "source": []
  },
  {
   "cell_type": "code",
   "execution_count": null,
   "metadata": {},
   "outputs": [],
   "source": []
  },
  {
   "cell_type": "code",
   "execution_count": null,
   "metadata": {},
   "outputs": [],
   "source": []
  },
  {
   "cell_type": "code",
   "execution_count": null,
   "metadata": {},
   "outputs": [],
   "source": []
  },
  {
   "cell_type": "markdown",
   "metadata": {},
   "source": [
    "\\begin{equation*}\n",
    "\\bar{C} = K_f C^\\alpha\n",
    "\\end{equation*}\n",
    "\n",
    "\\begin{equation*}\n",
    "\\frac{\\partial \\bar{C}}{\\partial C} = \\alpha K_f C^{\\alpha - 1}\n",
    "\\end{equation*}"
   ]
  },
  {
   "cell_type": "code",
   "execution_count": 38,
   "metadata": {},
   "outputs": [
    {
     "data": {
      "text/plain": [
       "Text(0,0.5,'Sorbed Concentration, $\\\\bar{C}$')"
      ]
     },
     "execution_count": 38,
     "metadata": {},
     "output_type": "execute_result"
    },
    {
     "data": {
      "image/png": "[encoded data removed]",
      "text/plain": [
       "<Figure size 432x432 with 1 Axes>"
      ]
     },
     "metadata": {},
     "output_type": "display_data"
    }
   ],
   "source": [
    "%matplotlib inline\n",
    "import os\n",
    "import sys\n",
    "import platform\n",
    "import numpy as np\n",
    "import matplotlib as mpl\n",
    "import matplotlib.pyplot as plt\n",
    "\n",
    "\n",
    "def calc_sorb_C(x, a=1, Kf=1):\n",
    "    y = []\n",
    "    \n",
    "    for i in x:\n",
    "        sorb_C = Kf*i**(a)\n",
    "        y.append(sorb_C)\n",
    "        \n",
    "    y = np.array(y)\n",
    "    return y\n",
    "        \n",
    "solute_C = np.arange(0.0,2.1,0.02)\n",
    "sorbed_C_lt = calc_sorb_C(solute_C, a=0.5, Kf=1)\n",
    "sorbed_C_eq = calc_sorb_C(solute_C, a=1, Kf=1)\n",
    "sorbed_C_gt = calc_sorb_C(solute_C, a=2, Kf=1)\n",
    "\n",
    "fig = plt.figure(figsize=(6,6))\n",
    "fig.subplots_adjust(left=None, bottom=None, right=None, top=None,\n",
    "                    wspace=0.25, hspace=0.25)\n",
    "\n",
    "ax = fig.add_subplot(1, 1, 1)\n",
    "ax.plot(solute_C, sorbed_C_lt, linewidth=2, color='red', label=r'$\\alpha < 1$')\n",
    "ax.plot(solute_C, sorbed_C_eq, linewidth=2, color='black', label=r'$\\alpha = 1$')\n",
    "ax.plot(solute_C, sorbed_C_gt, linewidth=2, color='blue', label=r'$\\alpha > 1$')\n",
    "ax.set_xlim([0,2.05])\n",
    "ax.set_ylim([0,2.05])\n",
    "\n",
    "leg = ax.legend(loc='upper left')\n",
    "leg.draw_frame(False)\n",
    "ax.set_xlabel('Solute Concentration, C')\n",
    "plt.ylabel(r'Sorbed Concentration, $\\bar{C}$')\n"
   ]
  },
  {
   "cell_type": "markdown",
   "metadata": {},
   "source": [
    "For "
   ]
  },
  {
   "cell_type": "code",
   "execution_count": null,
   "metadata": {},
   "outputs": [],
   "source": []
  }
 ],
 "metadata": {
  "kernelspec": {
   "display_name": "Python 3",
   "language": "python",
   "name": "python3"
  },
  "language_info": {
   "codemirror_mode": {
    "name": "ipython",
    "version": 3
   },
   "file_extension": ".py",
   "mimetype": "text/x-python",
   "name": "python",
   "nbconvert_exporter": "python",
   "pygments_lexer": "ipython3",
   "version": "3.5.3"
  }
 },
 "nbformat": 4,
 "nbformat_minor": 2
}
