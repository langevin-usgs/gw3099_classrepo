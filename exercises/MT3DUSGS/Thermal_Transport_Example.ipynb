{
 "cells": [
  {
   "cell_type": "markdown",
   "metadata": {},
   "source": [
    "### Load in a MODFLOW-only version of the Sagehen model"
   ]
  },
  {
   "cell_type": "code",
   "execution_count": null,
   "metadata": {},
   "outputs": [],
   "source": [
    "import os\n",
    "import sys\n",
    "from math import*\n",
    "import matplotlib.pyplot as plt\n",
    "import numpy as np\n",
    "\n",
    "import config\n",
    "\n",
    "# run installed version of flopy or add local path\n",
    "try:\n",
    "    import flopy\n",
    "except:\n",
    "    fpth = os.path.abspath(os.path.join('..', '..'))\n",
    "    sys.path.append(fpth)\n",
    "    import flopy\n",
    "\n",
    "print(sys.version)\n",
    "print('flopy version: {}'.format(flopy.__version__))"
   ]
  },
  {
   "cell_type": "code",
   "execution_count": null,
   "metadata": {},
   "outputs": [],
   "source": [
    "nam_file = \"uzftest1.nam\"\n",
    "model_ws = os.path.join(\"UZF_testproblem1\")\n",
    "mf = flopy.modflow.Modflow.load(nam_file, model_ws=model_ws, check=False, exe_name=config.mfnwtexe, verbose=True)"
   ]
  },
  {
   "cell_type": "code",
   "execution_count": null,
   "metadata": {},
   "outputs": [],
   "source": [
    "mf.upw.sy = 0.2\n",
    "mf.change_model_ws(new_pth='sagetemp', reset_external=False)"
   ]
  },
  {
   "cell_type": "code",
   "execution_count": null,
   "metadata": {},
   "outputs": [],
   "source": [
    "lmt = flopy.modflow.ModflowLmt(mf, output_file_name='therm.ftl', output_file_header='extended',\n",
    "                               output_file_format='formatted', package_flows=['all'])"
   ]
  },
  {
   "cell_type": "code",
   "execution_count": null,
   "metadata": {},
   "outputs": [],
   "source": [
    "mf.write_input()\n",
    "mf.run_model()"
   ]
  },
  {
   "cell_type": "code",
   "execution_count": null,
   "metadata": {},
   "outputs": [],
   "source": [
    "mt = flopy.mt3d.Mt3dms(modflowmodel=mf, modelname='Therm', model_ws=mf.model_ws,\n",
    "                       version='mt3d-usgs', namefile_ext='mtnam', exe_name=config.mt3dusgsexe,\n",
    "                       ftlfilename='Therm.ftl', ftlfree=True)"
   ]
  },
  {
   "cell_type": "code",
   "execution_count": null,
   "metadata": {},
   "outputs": [],
   "source": [
    "print(mf.upw.sy[0,20:30,30:40])"
   ]
  },
  {
   "cell_type": "markdown",
   "metadata": {},
   "source": [
    "#### Governing equation for thermal transport\n",
    "\\begin{equation*}\n",
    "\\left( 1+ \\frac{1- \\theta}{\\theta} \\frac{\\rho_s}{\\rho} \\frac{c_{P_{solid}}}{c_{P_{fluid}}} \\right) \\frac{\\partial \\left( \\theta T \\right) }{\\partial t}\n",
    "= \\nabla \\cdot \\left[ \\theta \\left( \\frac {k_{T_{bulk}}}{\\theta \\rho c_{Pfluid}} + \\alpha \\frac{\\mathrm{q}}{\\theta} \\right) \\cdot \\nabla T \\right] - \\nabla \\cdot \\left( \\mathrm{ \\mathbf{q}} T \\right) - q'_s T_s\n",
    "\\end{equation*}\n",
    "\n",
    "#### Some constants we will be using\n",
    "\n",
    "\\begin{equation*}\n",
    "k_{T_{fluid}} = 0.58 \\frac {\\mathrm{W}}{ \\left( m \\cdot K \\right)}\n",
    "\\end{equation*}\n",
    "\n",
    "\\begin{equation*}\n",
    "k_{T_{solid}} = 3.0 \\frac {\\mathrm{W}}{ \\left( m \\cdot K \\right)}\n",
    "\\end{equation*}\n",
    "\n",
    "\\begin{equation*}\n",
    "c_{P_{fluid}} = 4183 \\frac{\\mathrm{J}}{\\frac{\\mathrm{kg}}{\\mathrm{K}}}\n",
    "\\end{equation*}\n",
    "\n",
    "\\begin{equation*}\n",
    "c_{P_{solid}} = 710 \\frac{\\mathrm{J}}{\\frac{\\mathrm{kg}}{\\mathrm{K}}}  \n",
    "\\end{equation*} \n",
    "\n",
    "\\begin{equation*}\n",
    "k_{T_{bulk}} = \\theta k_{T_{fluid}} + \\left( 1- \\theta \\right) k_{T_{solid}}\n",
    "\\end{equation*}\n",
    "\n",
    "\\begin{equation*}\n",
    "\\rho_{solid} = 2650 \\frac{kg}{m^3}\n",
    "\\end{equation*}\n",
    "\n",
    "#### Note\n",
    "\n",
    "\\begin{equation*}\n",
    "\\rho_b = \\rho_s \\left( 1- \\theta \\right)\n",
    "\\end{equation*}\n",
    "\n",
    "\\begin{equation*}\n",
    "R = 1 + \\frac{\\rho_b}{\\theta} k_{d_{temp}}\n",
    "\\end{equation*}\n",
    "\n",
    "#### Thermal distribution factor to account for exchange with matrix and retardation of fluid heat flow\n",
    "\\begin{equation*}\n",
    "k_{d_{temp}} = \\frac {c_{P_{solid}}}{\\rho c_{P_{fluid}}}\n",
    "\\end{equation*}\n",
    "\n",
    "#### Bulk thermal diffusivity coefficient to account for bulk heat conduction in matrix and fluid\n",
    "\\begin{equation*}\n",
    "D_{m_{Temp}} = \\frac {k_{T_{bulk}}}{\\theta \\rho c_{P_{fluid}}}\n",
    "\\end{equation*}\n",
    "\n",
    "\n"
   ]
  },
  {
   "cell_type": "markdown",
   "metadata": {},
   "source": [
    "Calculate these values for use in the MT3D-USGS input files"
   ]
  },
  {
   "cell_type": "code",
   "execution_count": null,
   "metadata": {},
   "outputs": [],
   "source": [
    "Ktf = 0.58\n",
    "Kts = 3.0\n",
    "theta = 0.20\n",
    "\n",
    "Ktb = theta * Ktf + (1-theta)*Kts\n",
    "print(\"Ktb = \" + str(Ktb) + \" W/m/K\")"
   ]
  },
  {
   "cell_type": "code",
   "execution_count": null,
   "metadata": {},
   "outputs": [],
   "source": [
    "rho = 1000.    # kg/m^3\n",
    "cps = 710.\n",
    "cpf = 4183.\n",
    "\n",
    "Kdt = cps / (rho * cpf)\n",
    "print(\"Kdt = \" + str(Kdt) + \" m3/kg\")"
   ]
  },
  {
   "cell_type": "code",
   "execution_count": null,
   "metadata": {},
   "outputs": [],
   "source": [
    "rhos = 2650\n",
    "rhob = rhos * (1-theta)"
   ]
  },
  {
   "cell_type": "code",
   "execution_count": null,
   "metadata": {},
   "outputs": [],
   "source": [
    "# Ktb calculated above\n",
    "\n",
    "Dmt = Ktb / (theta * rho * cpf)\n",
    "print(\"Dmt = \" + str(Dmt) + \" m^2/s = \" + str(Dmt*86400) + \" m^2/day\")\n",
    "Dmt = Dmt * 86400"
   ]
  },
  {
   "cell_type": "code",
   "execution_count": null,
   "metadata": {},
   "outputs": [],
   "source": [
    "# Have a look at the temperature forcing input\n",
    "sample = mf.dis.nper\n",
    "x = np.arange(sample)\n",
    "y = 10 * np.sin((x/140 - 70) + 1)  #=(SIN(A3/90 - 70)+1)*10\n",
    "plt.plot(x, y)\n",
    "plt.xlabel('sample(n)')\n",
    "plt.ylabel('voltage(V)')\n",
    "plt.show()"
   ]
  },
  {
   "cell_type": "code",
   "execution_count": null,
   "metadata": {},
   "outputs": [],
   "source": [
    "ncomp   =   1\n",
    "lunit   =   'FT'\n",
    "sconc   =   1.0\n",
    "prsity  =   0.2    # mf.upw.sy[0,:,:]\n",
    "cinact  =  -1.0\n",
    "thkmin  =   0.00001\n",
    "nprs    =  -1\n",
    "nprobs  =  10\n",
    "nprmas  =  10\n",
    "dt0     =   1.0\n",
    "nstp    =   1\n",
    "mxstrn  = 500\n",
    "ttsmult =   1.0\n",
    "ttsmax  = 100\n",
    "\n",
    "btn = flopy.mt3d.Mt3dBtn(mt, MFStyleArr=True, DRYCell=True, lunit=lunit,\n",
    "                         sconc=sconc, ncomp=ncomp, prsity=prsity, cinact=cinact,\n",
    "                         thkmin=thkmin, nprs=nprs, nprobs=nprobs, \n",
    "                         chkmas=True,nprmas=nprmas, dt0=dt0, nstp=nstp, \n",
    "                         mxstrn=mxstrn, ttsmult=ttsmult, ttsmax=ttsmax)\n",
    "\n",
    "# ADV package\n",
    "mixelm =    0\n",
    "percel =    1.0000\n",
    "mxpart = 5000\n",
    "nadvfd =    1      # (1 = Upstream weighting)\n",
    "\n",
    "adv = flopy.mt3d.Mt3dAdv(mt, mixelm=mixelm, percel=percel, mxpart=mxpart, \n",
    "                         nadvfd=nadvfd)\n",
    "\n",
    "# GCG solver package\n",
    "mxiter =   1\n",
    "iter1  = 200\n",
    "isolve =   3\n",
    "ncrs   =   0\n",
    "accl   =   1.000000\n",
    "cclose =   1.00e-06\n",
    "iprgcg =   5\n",
    "\n",
    "gcg = flopy.mt3d.Mt3dGcg(mt, mxiter=mxiter, iter1=iter1, \n",
    "                         isolve=isolve, ncrs=ncrs, accl=accl, \n",
    "                         cclose=cclose, iprgcg=iprgcg)\n",
    "\n",
    "# SSM\n",
    "mxss = 100\n",
    "ssm = flopy.mt3d.Mt3dSsm(mt, mxss=mxss)\n",
    "\n",
    "# DSP\n",
    "al     =  0.5        # longitudinal dispersivity\n",
    "trpt   =  0.1        # ratio of the horizontal transverse dispersivity to 'AL'\n",
    "trpv   =  0.1        # ratio of the vertical transverse dispersitvity to 'AL'\n",
    "dmcoef =  Dmt        # calculated above\n",
    "\n",
    "dsp = flopy.mt3d.Mt3dDsp(mt, al=al, trpt=trpt, trpv=trpv, dmcoef=dmcoef,\n",
    "                         multiDiff=True)\n",
    "\n",
    "# UZT (Input temperature boundary)\n",
    "\n",
    "# set up a 3D array of input temperatures\n",
    "cuzinf  = np.ones((mf.dis.nper, mf.dis.nrow, mf.dis.ncol))\n",
    "for i in range(y.shape[0]):\n",
    "    cuzinf[i,:,:] *= y[i]\n",
    "\n",
    "mxuzcon = np.count_nonzero(mf.uzf.iuzfbnd.array)\n",
    "iet     = 1\n",
    "iuzfbnd = mf.uzf.iuzfbnd.array\n",
    "wc      = 0.115\n",
    "sdh     = mf.dis.botm[0,:,:]\n",
    "cuzinf  = {i: cuzinf[i] for i in range(cuzinf.shape[0])}\n",
    "\n",
    "uzt = flopy.mt3d.Mt3dUzt(mt, mxuzcon=mxuzcon, iet=iet, iuzfbnd=iuzfbnd, wc=wc, sdh=sdh, \n",
    "                         cuzinf=cuzinf, cuzet=0, cgwet=0, filenames='Therm.uzt')\n",
    "\n",
    "\n",
    "nsfinit = abs(mf.sfr.nstrm)\n",
    "mxsfbc  = abs(mf.sfr.nstrm)\n",
    "dispsf  = np.ones((abs(mf.sfr.nstrm)))\n",
    "coldsf  = np.ones((abs(mf.sfr.nstrm)))\n",
    "obs_sf  = [nsfinit - 1]\n",
    "gage_output = [None, None, 'Therm.sftobs']\n",
    "\n",
    "\n",
    "sft = flopy.mt3d.Mt3dSft(mt, nsfinit=nsfinit, mxsfbc=mxsfbc, icbcsf=81, ioutobs=82,\n",
    "                         isfsolv=1, cclosesf=1.0E-5, mxitersf=50, crntsf=1.0, iprtxmd=0,\n",
    "                         coldsf=coldsf, dispsf=dispsf, nobssf=1, obs_sf=obs_sf,  # sf_stress_period_data = sf_stress_period_data,\n",
    "                         filenames=gage_output)\n"
   ]
  },
  {
   "cell_type": "code",
   "execution_count": null,
   "metadata": {},
   "outputs": [],
   "source": [
    "isothm    = 1  # 1: Linear; 2: Freundlich; 3: Langmuir; 4: 1st-order kinetic sorption\n",
    "ireact    = 0  # 0: no kinetic rate reaction; 1: 1st-order irreversible reaction\n",
    "irctop    = 2  # >=2: rct variables entered as arrays; <2: rct variables 1D by layer\n",
    "igetsc    = 0\n",
    "rhob      = rhob  # calculated above\n",
    "srconc    = np.zeros((mf.dis.nlay, mf.dis.nrow, mf.dis.ncol))\n",
    "\n",
    "sp1       = Kdt      # Distribution Coefficient (Kd) (Calculated above)\n",
    "sp2       = 0.0      # read, but not used with isothm = 1\n",
    "\n",
    "rct = flopy.mt3d.Mt3dRct(mt, isothm=isothm, ireact=ireact, igetsc=igetsc,\n",
    "                         sp1=sp1, sp2=sp2, srconc=srconc)"
   ]
  },
  {
   "cell_type": "code",
   "execution_count": null,
   "metadata": {},
   "outputs": [],
   "source": [
    "mt.write_input()\n",
    "\n",
    "# NOTE: Need to take out MXUZCON manually\n",
    "mt.run_model()\n"
   ]
  },
  {
   "cell_type": "code",
   "execution_count": null,
   "metadata": {},
   "outputs": [],
   "source": [
    "mf.upw.sy[0,9,49]"
   ]
  },
  {
   "cell_type": "code",
   "execution_count": null,
   "metadata": {},
   "outputs": [],
   "source": [
    "mf.upw.sy = 0.2"
   ]
  },
  {
   "cell_type": "code",
   "execution_count": null,
   "metadata": {},
   "outputs": [],
   "source": []
  }
 ],
 "metadata": {
  "kernelspec": {
   "display_name": "Python 3",
   "language": "python",
   "name": "python3"
  },
  "language_info": {
   "codemirror_mode": {
    "name": "ipython",
    "version": 3
   },
   "file_extension": ".py",
   "mimetype": "text/x-python",
   "name": "python",
   "nbconvert_exporter": "python",
   "pygments_lexer": "ipython3",
   "version": "3.5.3"
  }
 },
 "nbformat": 4,
 "nbformat_minor": 2
}
