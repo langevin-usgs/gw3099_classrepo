{
 "cells": [
  {
   "cell_type": "markdown",
   "metadata": {},
   "source": [
    "\\begin{equation*}\n",
    "\\left( 1+ \\frac{1- \\theta}{\\theta} \\frac{\\rho_s}{\\rho} \\frac{c_{P_{solid}}}{c_{P_{fluid}}} \\right) \\frac{\\partial \\left( \\theta T \\right) }{\\partial t}\n",
    "= \\nabla \\cdot \\left[ \\theta \\left( \\frac {k_{T_{bulk}}}{\\theta \\rho c_{Pfluid}} + \\alpha \\frac{q}{\\theta} \\right) \\cdot \\nabla T \\right] - \\nabla \\cdot \\left( \\mathrm{ \\mathbf{q}} T \\right) - q'_s T_s\n",
    "\\end{equation*}\n",
    "\n",
    "\\begin{equation*}\n",
    "D_{m_{Temp}} = \\frac {k_{T_{bulk}}}{\\theta \\rho c_{P_{fluid}}}\n",
    "\\end{equation*}\n",
    "\n",
    "\\begin{equation*}\n",
    "k_{d_{temp}} = \\frac {c_{P_{solid}}}{\\rho c_{P_{fluid}}}\n",
    "\\end{equation*}\n",
    "\n",
    "\\begin{equation*}\n",
    "k_{T_{bulk}} = \\theta k_{T_{fluid}} + \\left( 1- \\theta \\right) k_{T_{solid}}\n",
    "\\end{equation*}"
   ]
  },
  {
   "cell_type": "code",
   "execution_count": null,
   "metadata": {},
   "outputs": [],
   "source": []
  }
 ],
 "metadata": {
  "kernelspec": {
   "display_name": "Python 3",
   "language": "python",
   "name": "python3"
  },
  "language_info": {
   "codemirror_mode": {
    "name": "ipython",
    "version": 3
   },
   "file_extension": ".py",
   "mimetype": "text/x-python",
   "name": "python",
   "nbconvert_exporter": "python",
   "pygments_lexer": "ipython3",
   "version": "3.5.3"
  }
 },
 "nbformat": 4,
 "nbformat_minor": 2
}
