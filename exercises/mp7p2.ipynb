{
 "cells": [
  {
   "cell_type": "markdown",
   "metadata": {},
   "source": [
    "# Advanced Modeling of Groundwater Flow (GW3099)\n",
    "![alt text](./img/header.jpg)\n",
    "\n",
    "# MODPATH 7 Problem 2\n",
    "This is a replication of the MODPATH Problem 2 example that is described on page 12 of the modpath_7_examples.pdf file.  The results shown here should be the same as the results in the MODPATH example, however, the vertex and node numbering used here may be different from the numbering used in MODPATH, so head values may not be compared directly without some additional mapping."
   ]
  },
  {
   "cell_type": "markdown",
   "metadata": {},
   "source": [
    "## Part I. Setup Notebook"
   ]
  },
  {
   "cell_type": "code",
   "execution_count": null,
   "metadata": {},
   "outputs": [],
   "source": [
    "# %load nbsetup.py\n",
    "%matplotlib inline\n",
    "from __future__ import print_function\n",
    "import sys\n",
    "import os\n",
    "import shutil\n",
    "import numpy as np\n",
    "import matplotlib as mpl\n",
    "import matplotlib.pyplot as plt\n",
    "import flopy\n",
    "import config\n",
    "\n",
    "print(sys.version)\n",
    "print('python executable: {}'.format(sys.executable))\n",
    "print('numpy version: {}'.format(np.__version__))\n",
    "print('matplotlib version: {}'.format(mpl.__version__))\n",
    "print('flopy version: {}'.format(flopy.__version__))"
   ]
  },
  {
   "cell_type": "markdown",
   "metadata": {},
   "source": [
    "## Part II. Gridgen Creation of Model Grid"
   ]
  },
  {
   "cell_type": "code",
   "execution_count": null,
   "metadata": {},
   "outputs": [],
   "source": [
    "from flopy.utils.gridgen import Gridgen "
   ]
  },
  {
   "cell_type": "markdown",
   "metadata": {},
   "source": [
    "### Create the Base MODFLOW Grid"
   ]
  },
  {
   "cell_type": "code",
   "execution_count": null,
   "metadata": {},
   "outputs": [],
   "source": [
    "Lx = 10000.\n",
    "Ly = 10500.\n",
    "nlay = 3\n",
    "nrow = 21\n",
    "ncol = 20\n",
    "delr = Lx / ncol\n",
    "delc = Ly / nrow\n",
    "top = 400\n",
    "botm = [220, 200, 0]"
   ]
  },
  {
   "cell_type": "code",
   "execution_count": null,
   "metadata": {},
   "outputs": [],
   "source": [
    "ms = flopy.modflow.Modflow(rotation=-20.)\n",
    "dis5 = flopy.modflow.ModflowDis(ms, nlay=nlay, nrow=nrow, ncol=ncol, delr=delr,\n",
    "                               delc=delc, top=top, botm=botm)"
   ]
  },
  {
   "cell_type": "markdown",
   "metadata": {},
   "source": [
    "### Create the Gridgen Object"
   ]
  },
  {
   "cell_type": "code",
   "execution_count": null,
   "metadata": {},
   "outputs": [],
   "source": [
    "model_name = 'mp7p2'\n",
    "model_ws = os.path.join('.', model_name)\n",
    "gridgen_ws = os.path.join(model_ws, 'gridgen')\n",
    "g = Gridgen(dis5, model_ws=gridgen_ws)"
   ]
  },
  {
   "cell_type": "markdown",
   "metadata": {},
   "source": [
    "### Refine the Grid"
   ]
  },
  {
   "cell_type": "code",
   "execution_count": null,
   "metadata": {},
   "outputs": [],
   "source": [
    "rf0shp = os.path.join(gridgen_ws, 'rf0')\n",
    "xmin = 7 * delr\n",
    "xmax = 12 * delr\n",
    "ymin = 8 * delc\n",
    "ymax = 13 * delc\n",
    "rfpoly = [[[(xmin, ymin), (xmax, ymin), (xmax, ymax), (xmin, ymax), (xmin, ymin)]]]\n",
    "g.add_refinement_features(rfpoly, 'polygon', 1, range(nlay))\n",
    "\n",
    "rf1shp = os.path.join(gridgen_ws, 'rf1')\n",
    "xmin = 8 * delr\n",
    "xmax = 11 * delr\n",
    "ymin = 9 * delc\n",
    "ymax = 12 * delc\n",
    "rfpoly = [[[(xmin, ymin), (xmax, ymin), (xmax, ymax), (xmin, ymax), (xmin, ymin)]]]\n",
    "g.add_refinement_features(rfpoly, 'polygon', 2, range(nlay))\n",
    "\n",
    "rf2shp = os.path.join(gridgen_ws, 'rf2')\n",
    "xmin = 9 * delr\n",
    "xmax = 10 * delr\n",
    "ymin = 10 * delc\n",
    "ymax = 11 * delc\n",
    "rfpoly = [[[(xmin, ymin), (xmax, ymin), (xmax, ymax), (xmin, ymax), (xmin, ymin)]]]\n",
    "g.add_refinement_features(rfpoly, 'polygon', 3, range(nlay))"
   ]
  },
  {
   "cell_type": "code",
   "execution_count": null,
   "metadata": {},
   "outputs": [],
   "source": [
    "fig = plt.figure(figsize=(5, 5))\n",
    "ax = fig.add_subplot(1, 1, 1, aspect='equal')\n",
    "mm = flopy.plot.ModelMap(model=ms)\n",
    "mm.plot_grid()\n",
    "flopy.plot.plot_shapefile(rf0shp, ax=ax, facecolor='yellow', edgecolor='none')\n",
    "flopy.plot.plot_shapefile(rf1shp, ax=ax, facecolor='pink', edgecolor='none')\n",
    "flopy.plot.plot_shapefile(rf2shp, ax=ax, facecolor='red', edgecolor='none')"
   ]
  },
  {
   "cell_type": "code",
   "execution_count": null,
   "metadata": {},
   "outputs": [],
   "source": [
    "g.build(verbose=False)"
   ]
  },
  {
   "cell_type": "code",
   "execution_count": null,
   "metadata": {},
   "outputs": [],
   "source": [
    "fig = plt.figure(figsize=(5, 5))\n",
    "ax = fig.add_subplot(1, 1, 1, aspect='equal')\n",
    "g.plot(ax, linewidth=0.5)"
   ]
  },
  {
   "cell_type": "markdown",
   "metadata": {},
   "source": [
    "### Extract the Grid Properties"
   ]
  },
  {
   "cell_type": "code",
   "execution_count": null,
   "metadata": {},
   "outputs": [],
   "source": [
    "gridprops = g.get_gridprops_disv()\n",
    "#gridprops"
   ]
  },
  {
   "cell_type": "code",
   "execution_count": null,
   "metadata": {},
   "outputs": [],
   "source": [
    "ncpl = gridprops['ncpl']\n",
    "top = gridprops['top']\n",
    "botm = gridprops['botm']\n",
    "nvert = gridprops['nvert']\n",
    "vertices = gridprops['vertices']\n",
    "cell2d = gridprops['cell2d']\n",
    "cellxy = gridprops['cellxy']"
   ]
  },
  {
   "cell_type": "markdown",
   "metadata": {},
   "source": [
    "## Part III. Create the Flopy Model"
   ]
  },
  {
   "cell_type": "code",
   "execution_count": null,
   "metadata": {},
   "outputs": [],
   "source": [
    "# create simulation\n",
    "sim = flopy.mf6.MFSimulation(sim_name=model_name, version='mf6', exe_name='mf6', \n",
    "                             sim_ws=model_ws)\n",
    "\n",
    "# create tdis package\n",
    "tdis_rc = [(1000.0, 1, 1.0)]\n",
    "tdis = flopy.mf6.ModflowTdis(sim, pname='tdis', time_units='DAYS', \n",
    "                             perioddata=tdis_rc)\n",
    "\n",
    "# create gwf model\n",
    "gwf = flopy.mf6.ModflowGwf(sim, modelname=model_name,\n",
    "                           model_nam_file='{}.nam'.format(model_name))\n",
    "gwf.name_file.save_flows = True\n",
    "\n",
    "# create iterative model solution and register the gwf model with it\n",
    "ims = flopy.mf6.ModflowIms(sim, pname='ims', print_option='SUMMARY', \n",
    "                           complexity='SIMPLE', outer_hclose=1.e-5, \n",
    "                           outer_maximum=100, under_relaxation='NONE', \n",
    "                           inner_maximum=100, inner_hclose=1.e-6, \n",
    "                           rcloserecord=0.1, linear_acceleration='BICGSTAB', \n",
    "                           scaling_method='NONE', reordering_method='NONE', \n",
    "                           relaxation_factor=0.99)\n",
    "sim.register_ims_package(ims, [gwf.name])\n",
    "\n",
    "# disv\n",
    "disv = flopy.mf6.ModflowGwfdisv(gwf, nlay=nlay, ncpl=ncpl, \n",
    "                                top=top, botm=botm, \n",
    "                                nvert=nvert, vertices=vertices, \n",
    "                                cell2d=cell2d)\n",
    "\n",
    "# initial conditions\n",
    "ic = flopy.mf6.ModflowGwfic(gwf, pname='ic', strt=320.)\n",
    "\n",
    "# node property flow\n",
    "npf = flopy.mf6.ModflowGwfnpf(gwf, xt3doptions=[('xt3d')], \n",
    "                              icelltype=[1,0,0], \n",
    "                              k=[50.0, 0.01, 200.0],\n",
    "                              k33=[10., 0.01, 20.])\n",
    "\n",
    "# wel\n",
    "wellpoints = [(4750., 5250.)]\n",
    "welcells = g.intersect(wellpoints, 'point', 0)\n",
    "#welspd = flopy.mf6.ModflowGwfwel.stress_period_data.empty(gwf, maxbound=1, aux_vars=['iface'])\n",
    "welspd = [[(2, icpl), -150000, 0] for icpl in welcells['nodenumber']]\n",
    "wel = flopy.mf6.ModflowGwfwel(gwf, print_input=True,\n",
    "                              auxiliary=[('iface', )],\n",
    "                              stress_period_data=welspd)\n",
    "\n",
    "# rch\n",
    "aux = [np.ones(ncpl, dtype=np.int)*6]\n",
    "rch = flopy.mf6.ModflowGwfrcha(gwf, recharge=0.005, \n",
    "                               auxiliary=[('iface',)], \n",
    "                               aux={0: [6]})\n",
    "# riv\n",
    "riverline = [[[(Lx - 1., Ly), (Lx - 1., 0.)]]]\n",
    "rivcells = g.intersect(riverline, 'line', 0)\n",
    "rivspd = [[(0, icpl), 320., 100000., 318] for icpl in rivcells['nodenumber']]\n",
    "riv = flopy.mf6.ModflowGwfriv(gwf, stress_period_data=rivspd)\n",
    "\n",
    "# output control\n",
    "oc = flopy.mf6.ModflowGwfoc(gwf, pname='oc', budget_filerecord='{}.cbb'.format(model_name),\n",
    "                            head_filerecord='{}.hds'.format(model_name),\n",
    "                            headprintrecord=[('COLUMNS', 10, 'WIDTH', 15,\n",
    "                                              'DIGITS', 6, 'GENERAL')],\n",
    "                            saverecord=[('HEAD', 'ALL'), ('BUDGET', 'ALL')],\n",
    "                            printrecord=[('HEAD', 'ALL'), ('BUDGET', 'ALL')])\n",
    "\n",
    "sim.write_simulation()"
   ]
  },
  {
   "cell_type": "markdown",
   "metadata": {},
   "source": [
    "## Part III. Run the MODFLOW 6 Model"
   ]
  },
  {
   "cell_type": "code",
   "execution_count": null,
   "metadata": {},
   "outputs": [],
   "source": [
    "sim.run_simulation()"
   ]
  },
  {
   "cell_type": "markdown",
   "metadata": {},
   "source": [
    "## Part IV. Import and Plot the Results"
   ]
  },
  {
   "cell_type": "markdown",
   "metadata": {},
   "source": [
    "### Plot the Boundary Locations"
   ]
  },
  {
   "cell_type": "code",
   "execution_count": null,
   "metadata": {},
   "outputs": [],
   "source": [
    "fname = os.path.join(model_ws, model_name + '.disv.grb')\n",
    "grd = flopy.utils.MfGrdFile(fname, verbose=False)\n",
    "iverts, verts = grd.get_verts()\n",
    "vertc = grd.get_centroids()\n",
    "xc = vertc[:, 0]\n",
    "yc = vertc[:, 1]\n",
    "sr = flopy.utils.reference.SpatialReferenceUnstructured(xc, yc, verts, iverts, [xc.shape[0]])"
   ]
  },
  {
   "cell_type": "code",
   "execution_count": null,
   "metadata": {},
   "outputs": [],
   "source": [
    "ibd = np.zeros((ncpl), dtype=np.int)\n",
    "ibd[welcells['nodenumber']] = 1\n",
    "ibd[rivcells['nodenumber']] = 2\n",
    "ibd = np.ma.masked_equal(ibd, 0)\n",
    "fig = plt.figure(figsize=(8, 8))\n",
    "ax = fig.add_subplot(1, 1, 1, aspect='equal')\n",
    "mm = flopy.plot.ModelMap(sr=sr, ax=ax)\n",
    "ax.set_xlim(0, Lx)\n",
    "ax.set_ylim(0, Ly)\n",
    "cmap = mpl.colors.ListedColormap(['r','g',])\n",
    "v = mm.plot_cvfd(verts, iverts, edgecolor='gray', a=ibd, cmap=cmap)\n",
    "t = ax.set_title('Boundary Conditions')"
   ]
  },
  {
   "cell_type": "code",
   "execution_count": null,
   "metadata": {},
   "outputs": [],
   "source": [
    "fname = os.path.join(model_ws, model_name + '.hds')\n",
    "hdobj = flopy.utils.HeadFile(fname)\n",
    "head = hdobj.get_data()\n",
    "head.shape"
   ]
  },
  {
   "cell_type": "code",
   "execution_count": null,
   "metadata": {},
   "outputs": [],
   "source": [
    "ilay = 2\n",
    "cint = .25\n",
    "fig = plt.figure(figsize=(8, 8))\n",
    "ax = fig.add_subplot(1, 1, 1, aspect='equal')\n",
    "mm = flopy.plot.ModelMap(sr=sr, ax=ax)\n",
    "ax.set_xlim(0, Lx)\n",
    "ax.set_ylim(0, Ly)\n",
    "v = mm.plot_cvfd(verts, iverts, edgecolor='black', a=head[ilay, 0, :], cmap='jet')\n",
    "hmin = head[ilay, 0, :].min()\n",
    "hmax = head[ilay, 0, :].max()\n",
    "levels = np.arange(np.floor(hmin), np.ceil(hmax) + cint, cint)\n",
    "cs = mm.contour_array_cvfd(vertc, head[ilay, 0, :], colors='white', \n",
    "                           levels=levels)\n",
    "plt.clabel(cs, fmt='%.1f', colors='white', fontsize=11)\n",
    "cb = plt.colorbar(v, shrink=0.5)\n",
    "t = ax.set_title('Model Layer {}; hmin={:6.2f}, hmax={:6.2f}'.format(ilay + 1, hmin, hmax))"
   ]
  },
  {
   "cell_type": "markdown",
   "metadata": {},
   "source": [
    "### Model Cells and Vertices"
   ]
  },
  {
   "cell_type": "code",
   "execution_count": null,
   "metadata": {},
   "outputs": [],
   "source": [
    "# zoom area\n",
    "xmin, xmax = 2000, 4300\n",
    "ymin, ymax = 5400, 7500\n",
    "\n",
    "fig = plt.figure(figsize=(8, 8))\n",
    "ax = fig.add_subplot(1, 1, 1, aspect='equal')\n",
    "mm = flopy.plot.ModelMap(sr=sr, ax=ax)\n",
    "v = mm.plot_cvfd(verts, iverts, edgecolor='black', facecolor='none')\n",
    "t = ax.set_title('Model Cells and Vertices (one-based)')\n",
    "ax.set_xlim(xmin, xmax)\n",
    "ax.set_ylim(ymin, ymax)\n",
    "ax.plot(verts[:, 0], verts[:, 1], 'bo')\n",
    "\n",
    "for i in range(nvert):\n",
    "    x = verts[i, 0]\n",
    "    y = verts[i, 1]\n",
    "    if xmin <= x <= xmax and ymin <= y <= ymax:\n",
    "        ax.annotate(str(i + 1), verts[i, :], color='b')\n",
    "        \n",
    "for i in range(ncpl):\n",
    "    x = vertc[i, 0]\n",
    "    y = vertc[i, 1]\n",
    "    if xmin <= x <= xmax and ymin <= y <= ymax:\n",
    "        ax.annotate(str(i + 1), vertc[i, :], color='r')    "
   ]
  },
  {
   "cell_type": "code",
   "execution_count": null,
   "metadata": {},
   "outputs": [],
   "source": []
  }
 ],
 "metadata": {
  "kernelspec": {
   "display_name": "Python 3",
   "language": "python",
   "name": "python3"
  },
  "language_info": {
   "codemirror_mode": {
    "name": "ipython",
    "version": 3
   },
   "file_extension": ".py",
   "mimetype": "text/x-python",
   "name": "python",
   "nbconvert_exporter": "python",
   "pygments_lexer": "ipython3",
   "version": "3.6.5"
  }
 },
 "nbformat": 4,
 "nbformat_minor": 2
}
